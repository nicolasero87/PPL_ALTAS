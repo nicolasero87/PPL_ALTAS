{
  "nbformat": 4,
  "nbformat_minor": 0,
  "metadata": {
    "colab": {
      "provenance": [],
      "authorship_tag": "ABX9TyMa1WkZDMx7KmO9T/dTsQxi",
      "include_colab_link": true
    },
    "kernelspec": {
      "name": "python3",
      "display_name": "Python 3"
    },
    "language_info": {
      "name": "python"
    }
  },
  "cells": [
    {
      "cell_type": "markdown",
      "metadata": {
        "id": "view-in-github",
        "colab_type": "text"
      },
      "source": [
        "<a href=\"https://colab.research.google.com/github/nicolasero87/SongAttributes_1999-2019_Spotify_Nicolas_Roman/blob/main/20.%20Spotify%20Songs%20Atributes_Nicolas_Rom%C3%A1n.ipynb\" target=\"_parent\"><img src=\"https://colab.research.google.com/assets/colab-badge.svg\" alt=\"Open In Colab\"/></a>"
      ]
    },
    {
      "cell_type": "markdown",
      "source": [
        "#Preentrega n° 1\n",
        "#**Fundamento Ciencias de datos I**\n",
        "\n",
        "---\n",
        "\n",
        "\n",
        "###Alumno: Nicolas Román\n",
        "####Comision 61600\n",
        "\n",
        "###Prof.: Leonardo Ferreira da Silva\n",
        "###Tutor: Gabriel Gudiño\n",
        "\n",
        "\n",
        "\n",
        "#####Data Base: \"songAttributes_1999-2019.csv\"\n",
        "\n",
        "#####Agosto 2024\n"
      ],
      "metadata": {
        "id": "IGh2MrUsl6q5"
      }
    },
    {
      "cell_type": "markdown",
      "source": [
        "# CONSIGNA\n",
        "Identificar 1 dataset potencial con las siguientes características:\n",
        " i) al menos 2000 filas,\n",
        " ii) al menos 15 columnas.\n",
        "Crearás un notebook que deberá tener en primera instancia un abstract (250/500 palabras) de acuerdo al dataset elegido del desafío “Visualizaciones en Python”. Además se deben establecer las preguntas e hipótesis de interés sobre el dataset elegido. Finalmente, deberás generar visualizaciones (univariadas, bivariadas o multivariadas) junto con resúmenes numéricos acompañado de la interpretaciones respectivas que permitan responder la pregunta problema.\n",
        "Generar preguntas o hipótesis de interés sobre el dataset elegido para el proyecto final.\n",
        "Crear gráficos que usen al menos tres variables y hacer un diagnóstico de lo que los mismos nos están diciendo.\n",
        "Vincular los gráficos y análisis numéricos hechos hasta el momento con las preguntas de interés.\n",
        "Identificar valores perdidos.\n",
        "ormato\n",
        "\n",
        "Entregar un archivo con formato .ipynb. Debe tener el nombre “ProyectoDS_ParteI_+Apellido.ipynb”\n",
        "\n"
      ],
      "metadata": {
        "id": "rgFIWJdGa0wl"
      }
    },
    {
      "cell_type": "markdown",
      "source": [
        "####Importacion de librerias y conexion a la carpeta de GitHub"
      ],
      "metadata": {
        "id": "6Sw2b4zyH4EO"
      }
    },
    {
      "cell_type": "code",
      "source": [
        "import pandas as pd\n",
        "from datetime import datetime, timedelta\n",
        "from matplotlib import pyplot as plt\n",
        "from matplotlib import dates as mpl_dates\n",
        "import seaborn as sns\n",
        "from mpl_toolkits.mplot3d import Axes3D\n",
        "\n",
        "# Standard\n",
        "from bokeh.io import output_notebook, show, reset_output\n",
        "# Other\n",
        "import bokeh\n",
        "from bokeh.plotting import figure"
      ],
      "metadata": {
        "id": "Ku8o05jCGYsH"
      },
      "execution_count": 1,
      "outputs": []
    },
    {
      "cell_type": "code",
      "source": [
        "! git clone https://github.com/nicolasero87/PPL_ALTAS.git"
      ],
      "metadata": {
        "id": "DF62gX47PH0a",
        "outputId": "d8dc72fe-75a3-44b3-da35-020433080030",
        "colab": {
          "base_uri": "https://localhost:8080/"
        }
      },
      "execution_count": 2,
      "outputs": [
        {
          "output_type": "stream",
          "name": "stdout",
          "text": [
            "Cloning into 'PPL_ALTAS'...\n",
            "remote: Enumerating objects: 92, done.\u001b[K\n",
            "remote: Counting objects: 100% (92/92), done.\u001b[K\n",
            "remote: Compressing objects: 100% (90/90), done.\u001b[K\n",
            "remote: Total 92 (delta 51), reused 0 (delta 0), pack-reused 0 (from 0)\u001b[K\n",
            "Receiving objects: 100% (92/92), 33.50 MiB | 7.32 MiB/s, done.\n",
            "Resolving deltas: 100% (51/51), done.\n"
          ]
        }
      ]
    },
    {
      "cell_type": "markdown",
      "source": [
        "# **DATA BASE 'ATRIBUTOS DE CANCIONES DE SPOTIFY'**\n",
        "#Abstracto\n",
        "documento: songAttributes_1999-2019.xlsx**. El mismo fue importado tambien en formato *.csv\n",
        "\n",
        "Spotify Song Attributes\n",
        "\n",
        "El data set elegido se trada de un conjunto de datos de 2017 canciones con atributos de la API de Spotify.\n",
        "Cada fila representa una canción.\n",
        "Hay 16 columnas:\n",
        "\n",
        "13 columnas son atributos de la canción,\n",
        "una columna para el nombre de la canción,\n",
        "una para el artista,\n",
        "y también tiene una columna llamada ‘LABEL’ que determina si al creador de la base de datos le gusta (1) o no le gusta (0) la canción.\n",
        "\n",
        "Aquí están los 13 atributos de las canciones:\n",
        "\n",
        "acousticness (acústica)\n",
        "danceability (bailabilidad)\n",
        "duration_ms (duración en milisegundos)\n",
        "energy (energía)\n",
        "instrumentalness (instrumentalidad)\n",
        "key (clave/registro)\n",
        "liveness (vivacidad)\n",
        "loudness (sonoridad)\n",
        "mode (modo)\n",
        "speechiness (hablabilidad)\n",
        "tempo (tempo)\n",
        "time_signature (compás)\n",
        "valence (valencia)\n",
        "\n",
        "variables potencialmente interesantes:\n",
        "1. artistas más repetidos en el archivo\n",
        "2. qué clase de canciones prefiere el autor del data set\n",
        "3 canciones más bailables y energáticas de la base de datos\n"
      ],
      "metadata": {
        "id": "YonjxilTmyx2"
      }
    },
    {
      "cell_type": "code",
      "source": [
        "#leo el data set\n",
        "df_2 = pd.read_csv('/content/PPL_ALTAS/songAttributes_1999-2019.csv')"
      ],
      "metadata": {
        "id": "rIT39uPknOVQ"
      },
      "execution_count": 3,
      "outputs": []
    },
    {
      "cell_type": "code",
      "source": [
        "#impresion de las primeras 5 filas del data set\n",
        "df_2.head()"
      ],
      "metadata": {
        "colab": {
          "base_uri": "https://localhost:8080/",
          "height": 313
        },
        "id": "x-uX0sBHnOzm",
        "outputId": "561bd387-cae2-420c-88e4-5533353aeab7"
      },
      "execution_count": 4,
      "outputs": [
        {
          "output_type": "execute_result",
          "data": {
            "text/plain": [
              "   Unnamed: 0  acousticness  danceability  duration_ms  energy  \\\n",
              "0           0        0.0102         0.833       204600   0.434   \n",
              "1           1        0.1990         0.743       326933   0.359   \n",
              "2           2        0.0344         0.838       185707   0.412   \n",
              "3           3        0.6040         0.494       199413   0.338   \n",
              "4           4        0.1800         0.678       392893   0.561   \n",
              "\n",
              "   instrumentalness  key  liveness  loudness  mode  speechiness    tempo  \\\n",
              "0          0.021900    2    0.1650    -8.795     1       0.4310  150.062   \n",
              "1          0.006110    1    0.1370   -10.401     1       0.0794  160.083   \n",
              "2          0.000234    2    0.1590    -7.148     1       0.2890   75.044   \n",
              "3          0.510000    5    0.0922   -15.236     1       0.0261   86.468   \n",
              "4          0.512000    5    0.4390   -11.648     0       0.0694  174.004   \n",
              "\n",
              "   time_signature  valence  target      song_title            artist  \n",
              "0             4.0    0.286       1        Mask Off            Future  \n",
              "1             4.0    0.588       1         Redbone  Childish Gambino  \n",
              "2             4.0    0.173       1    Xanny Family            Future  \n",
              "3             4.0    0.230       1  Master Of None       Beach House  \n",
              "4             4.0    0.904       1  Parallel Lines       Junior Boys  "
            ],
            "text/html": [
              "\n",
              "  <div id=\"df-2483c059-ad05-4e96-8ae2-b96a581552a3\" class=\"colab-df-container\">\n",
              "    <div>\n",
              "<style scoped>\n",
              "    .dataframe tbody tr th:only-of-type {\n",
              "        vertical-align: middle;\n",
              "    }\n",
              "\n",
              "    .dataframe tbody tr th {\n",
              "        vertical-align: top;\n",
              "    }\n",
              "\n",
              "    .dataframe thead th {\n",
              "        text-align: right;\n",
              "    }\n",
              "</style>\n",
              "<table border=\"1\" class=\"dataframe\">\n",
              "  <thead>\n",
              "    <tr style=\"text-align: right;\">\n",
              "      <th></th>\n",
              "      <th>Unnamed: 0</th>\n",
              "      <th>acousticness</th>\n",
              "      <th>danceability</th>\n",
              "      <th>duration_ms</th>\n",
              "      <th>energy</th>\n",
              "      <th>instrumentalness</th>\n",
              "      <th>key</th>\n",
              "      <th>liveness</th>\n",
              "      <th>loudness</th>\n",
              "      <th>mode</th>\n",
              "      <th>speechiness</th>\n",
              "      <th>tempo</th>\n",
              "      <th>time_signature</th>\n",
              "      <th>valence</th>\n",
              "      <th>target</th>\n",
              "      <th>song_title</th>\n",
              "      <th>artist</th>\n",
              "    </tr>\n",
              "  </thead>\n",
              "  <tbody>\n",
              "    <tr>\n",
              "      <th>0</th>\n",
              "      <td>0</td>\n",
              "      <td>0.0102</td>\n",
              "      <td>0.833</td>\n",
              "      <td>204600</td>\n",
              "      <td>0.434</td>\n",
              "      <td>0.021900</td>\n",
              "      <td>2</td>\n",
              "      <td>0.1650</td>\n",
              "      <td>-8.795</td>\n",
              "      <td>1</td>\n",
              "      <td>0.4310</td>\n",
              "      <td>150.062</td>\n",
              "      <td>4.0</td>\n",
              "      <td>0.286</td>\n",
              "      <td>1</td>\n",
              "      <td>Mask Off</td>\n",
              "      <td>Future</td>\n",
              "    </tr>\n",
              "    <tr>\n",
              "      <th>1</th>\n",
              "      <td>1</td>\n",
              "      <td>0.1990</td>\n",
              "      <td>0.743</td>\n",
              "      <td>326933</td>\n",
              "      <td>0.359</td>\n",
              "      <td>0.006110</td>\n",
              "      <td>1</td>\n",
              "      <td>0.1370</td>\n",
              "      <td>-10.401</td>\n",
              "      <td>1</td>\n",
              "      <td>0.0794</td>\n",
              "      <td>160.083</td>\n",
              "      <td>4.0</td>\n",
              "      <td>0.588</td>\n",
              "      <td>1</td>\n",
              "      <td>Redbone</td>\n",
              "      <td>Childish Gambino</td>\n",
              "    </tr>\n",
              "    <tr>\n",
              "      <th>2</th>\n",
              "      <td>2</td>\n",
              "      <td>0.0344</td>\n",
              "      <td>0.838</td>\n",
              "      <td>185707</td>\n",
              "      <td>0.412</td>\n",
              "      <td>0.000234</td>\n",
              "      <td>2</td>\n",
              "      <td>0.1590</td>\n",
              "      <td>-7.148</td>\n",
              "      <td>1</td>\n",
              "      <td>0.2890</td>\n",
              "      <td>75.044</td>\n",
              "      <td>4.0</td>\n",
              "      <td>0.173</td>\n",
              "      <td>1</td>\n",
              "      <td>Xanny Family</td>\n",
              "      <td>Future</td>\n",
              "    </tr>\n",
              "    <tr>\n",
              "      <th>3</th>\n",
              "      <td>3</td>\n",
              "      <td>0.6040</td>\n",
              "      <td>0.494</td>\n",
              "      <td>199413</td>\n",
              "      <td>0.338</td>\n",
              "      <td>0.510000</td>\n",
              "      <td>5</td>\n",
              "      <td>0.0922</td>\n",
              "      <td>-15.236</td>\n",
              "      <td>1</td>\n",
              "      <td>0.0261</td>\n",
              "      <td>86.468</td>\n",
              "      <td>4.0</td>\n",
              "      <td>0.230</td>\n",
              "      <td>1</td>\n",
              "      <td>Master Of None</td>\n",
              "      <td>Beach House</td>\n",
              "    </tr>\n",
              "    <tr>\n",
              "      <th>4</th>\n",
              "      <td>4</td>\n",
              "      <td>0.1800</td>\n",
              "      <td>0.678</td>\n",
              "      <td>392893</td>\n",
              "      <td>0.561</td>\n",
              "      <td>0.512000</td>\n",
              "      <td>5</td>\n",
              "      <td>0.4390</td>\n",
              "      <td>-11.648</td>\n",
              "      <td>0</td>\n",
              "      <td>0.0694</td>\n",
              "      <td>174.004</td>\n",
              "      <td>4.0</td>\n",
              "      <td>0.904</td>\n",
              "      <td>1</td>\n",
              "      <td>Parallel Lines</td>\n",
              "      <td>Junior Boys</td>\n",
              "    </tr>\n",
              "  </tbody>\n",
              "</table>\n",
              "</div>\n",
              "    <div class=\"colab-df-buttons\">\n",
              "\n",
              "  <div class=\"colab-df-container\">\n",
              "    <button class=\"colab-df-convert\" onclick=\"convertToInteractive('df-2483c059-ad05-4e96-8ae2-b96a581552a3')\"\n",
              "            title=\"Convert this dataframe to an interactive table.\"\n",
              "            style=\"display:none;\">\n",
              "\n",
              "  <svg xmlns=\"http://www.w3.org/2000/svg\" height=\"24px\" viewBox=\"0 -960 960 960\">\n",
              "    <path d=\"M120-120v-720h720v720H120Zm60-500h600v-160H180v160Zm220 220h160v-160H400v160Zm0 220h160v-160H400v160ZM180-400h160v-160H180v160Zm440 0h160v-160H620v160ZM180-180h160v-160H180v160Zm440 0h160v-160H620v160Z\"/>\n",
              "  </svg>\n",
              "    </button>\n",
              "\n",
              "  <style>\n",
              "    .colab-df-container {\n",
              "      display:flex;\n",
              "      gap: 12px;\n",
              "    }\n",
              "\n",
              "    .colab-df-convert {\n",
              "      background-color: #E8F0FE;\n",
              "      border: none;\n",
              "      border-radius: 50%;\n",
              "      cursor: pointer;\n",
              "      display: none;\n",
              "      fill: #1967D2;\n",
              "      height: 32px;\n",
              "      padding: 0 0 0 0;\n",
              "      width: 32px;\n",
              "    }\n",
              "\n",
              "    .colab-df-convert:hover {\n",
              "      background-color: #E2EBFA;\n",
              "      box-shadow: 0px 1px 2px rgba(60, 64, 67, 0.3), 0px 1px 3px 1px rgba(60, 64, 67, 0.15);\n",
              "      fill: #174EA6;\n",
              "    }\n",
              "\n",
              "    .colab-df-buttons div {\n",
              "      margin-bottom: 4px;\n",
              "    }\n",
              "\n",
              "    [theme=dark] .colab-df-convert {\n",
              "      background-color: #3B4455;\n",
              "      fill: #D2E3FC;\n",
              "    }\n",
              "\n",
              "    [theme=dark] .colab-df-convert:hover {\n",
              "      background-color: #434B5C;\n",
              "      box-shadow: 0px 1px 3px 1px rgba(0, 0, 0, 0.15);\n",
              "      filter: drop-shadow(0px 1px 2px rgba(0, 0, 0, 0.3));\n",
              "      fill: #FFFFFF;\n",
              "    }\n",
              "  </style>\n",
              "\n",
              "    <script>\n",
              "      const buttonEl =\n",
              "        document.querySelector('#df-2483c059-ad05-4e96-8ae2-b96a581552a3 button.colab-df-convert');\n",
              "      buttonEl.style.display =\n",
              "        google.colab.kernel.accessAllowed ? 'block' : 'none';\n",
              "\n",
              "      async function convertToInteractive(key) {\n",
              "        const element = document.querySelector('#df-2483c059-ad05-4e96-8ae2-b96a581552a3');\n",
              "        const dataTable =\n",
              "          await google.colab.kernel.invokeFunction('convertToInteractive',\n",
              "                                                    [key], {});\n",
              "        if (!dataTable) return;\n",
              "\n",
              "        const docLinkHtml = 'Like what you see? Visit the ' +\n",
              "          '<a target=\"_blank\" href=https://colab.research.google.com/notebooks/data_table.ipynb>data table notebook</a>'\n",
              "          + ' to learn more about interactive tables.';\n",
              "        element.innerHTML = '';\n",
              "        dataTable['output_type'] = 'display_data';\n",
              "        await google.colab.output.renderOutput(dataTable, element);\n",
              "        const docLink = document.createElement('div');\n",
              "        docLink.innerHTML = docLinkHtml;\n",
              "        element.appendChild(docLink);\n",
              "      }\n",
              "    </script>\n",
              "  </div>\n",
              "\n",
              "\n",
              "<div id=\"df-b7a1cf57-7f6f-4515-9b89-199612428ba3\">\n",
              "  <button class=\"colab-df-quickchart\" onclick=\"quickchart('df-b7a1cf57-7f6f-4515-9b89-199612428ba3')\"\n",
              "            title=\"Suggest charts\"\n",
              "            style=\"display:none;\">\n",
              "\n",
              "<svg xmlns=\"http://www.w3.org/2000/svg\" height=\"24px\"viewBox=\"0 0 24 24\"\n",
              "     width=\"24px\">\n",
              "    <g>\n",
              "        <path d=\"M19 3H5c-1.1 0-2 .9-2 2v14c0 1.1.9 2 2 2h14c1.1 0 2-.9 2-2V5c0-1.1-.9-2-2-2zM9 17H7v-7h2v7zm4 0h-2V7h2v10zm4 0h-2v-4h2v4z\"/>\n",
              "    </g>\n",
              "</svg>\n",
              "  </button>\n",
              "\n",
              "<style>\n",
              "  .colab-df-quickchart {\n",
              "      --bg-color: #E8F0FE;\n",
              "      --fill-color: #1967D2;\n",
              "      --hover-bg-color: #E2EBFA;\n",
              "      --hover-fill-color: #174EA6;\n",
              "      --disabled-fill-color: #AAA;\n",
              "      --disabled-bg-color: #DDD;\n",
              "  }\n",
              "\n",
              "  [theme=dark] .colab-df-quickchart {\n",
              "      --bg-color: #3B4455;\n",
              "      --fill-color: #D2E3FC;\n",
              "      --hover-bg-color: #434B5C;\n",
              "      --hover-fill-color: #FFFFFF;\n",
              "      --disabled-bg-color: #3B4455;\n",
              "      --disabled-fill-color: #666;\n",
              "  }\n",
              "\n",
              "  .colab-df-quickchart {\n",
              "    background-color: var(--bg-color);\n",
              "    border: none;\n",
              "    border-radius: 50%;\n",
              "    cursor: pointer;\n",
              "    display: none;\n",
              "    fill: var(--fill-color);\n",
              "    height: 32px;\n",
              "    padding: 0;\n",
              "    width: 32px;\n",
              "  }\n",
              "\n",
              "  .colab-df-quickchart:hover {\n",
              "    background-color: var(--hover-bg-color);\n",
              "    box-shadow: 0 1px 2px rgba(60, 64, 67, 0.3), 0 1px 3px 1px rgba(60, 64, 67, 0.15);\n",
              "    fill: var(--button-hover-fill-color);\n",
              "  }\n",
              "\n",
              "  .colab-df-quickchart-complete:disabled,\n",
              "  .colab-df-quickchart-complete:disabled:hover {\n",
              "    background-color: var(--disabled-bg-color);\n",
              "    fill: var(--disabled-fill-color);\n",
              "    box-shadow: none;\n",
              "  }\n",
              "\n",
              "  .colab-df-spinner {\n",
              "    border: 2px solid var(--fill-color);\n",
              "    border-color: transparent;\n",
              "    border-bottom-color: var(--fill-color);\n",
              "    animation:\n",
              "      spin 1s steps(1) infinite;\n",
              "  }\n",
              "\n",
              "  @keyframes spin {\n",
              "    0% {\n",
              "      border-color: transparent;\n",
              "      border-bottom-color: var(--fill-color);\n",
              "      border-left-color: var(--fill-color);\n",
              "    }\n",
              "    20% {\n",
              "      border-color: transparent;\n",
              "      border-left-color: var(--fill-color);\n",
              "      border-top-color: var(--fill-color);\n",
              "    }\n",
              "    30% {\n",
              "      border-color: transparent;\n",
              "      border-left-color: var(--fill-color);\n",
              "      border-top-color: var(--fill-color);\n",
              "      border-right-color: var(--fill-color);\n",
              "    }\n",
              "    40% {\n",
              "      border-color: transparent;\n",
              "      border-right-color: var(--fill-color);\n",
              "      border-top-color: var(--fill-color);\n",
              "    }\n",
              "    60% {\n",
              "      border-color: transparent;\n",
              "      border-right-color: var(--fill-color);\n",
              "    }\n",
              "    80% {\n",
              "      border-color: transparent;\n",
              "      border-right-color: var(--fill-color);\n",
              "      border-bottom-color: var(--fill-color);\n",
              "    }\n",
              "    90% {\n",
              "      border-color: transparent;\n",
              "      border-bottom-color: var(--fill-color);\n",
              "    }\n",
              "  }\n",
              "</style>\n",
              "\n",
              "  <script>\n",
              "    async function quickchart(key) {\n",
              "      const quickchartButtonEl =\n",
              "        document.querySelector('#' + key + ' button');\n",
              "      quickchartButtonEl.disabled = true;  // To prevent multiple clicks.\n",
              "      quickchartButtonEl.classList.add('colab-df-spinner');\n",
              "      try {\n",
              "        const charts = await google.colab.kernel.invokeFunction(\n",
              "            'suggestCharts', [key], {});\n",
              "      } catch (error) {\n",
              "        console.error('Error during call to suggestCharts:', error);\n",
              "      }\n",
              "      quickchartButtonEl.classList.remove('colab-df-spinner');\n",
              "      quickchartButtonEl.classList.add('colab-df-quickchart-complete');\n",
              "    }\n",
              "    (() => {\n",
              "      let quickchartButtonEl =\n",
              "        document.querySelector('#df-b7a1cf57-7f6f-4515-9b89-199612428ba3 button');\n",
              "      quickchartButtonEl.style.display =\n",
              "        google.colab.kernel.accessAllowed ? 'block' : 'none';\n",
              "    })();\n",
              "  </script>\n",
              "</div>\n",
              "\n",
              "    </div>\n",
              "  </div>\n"
            ],
            "application/vnd.google.colaboratory.intrinsic+json": {
              "type": "dataframe",
              "variable_name": "df_2",
              "summary": "{\n  \"name\": \"df_2\",\n  \"rows\": 2017,\n  \"fields\": [\n    {\n      \"column\": \"Unnamed: 0\",\n      \"properties\": {\n        \"dtype\": \"number\",\n        \"std\": 582,\n        \"min\": 0,\n        \"max\": 2016,\n        \"num_unique_values\": 2017,\n        \"samples\": [\n          1555,\n          526,\n          393\n        ],\n        \"semantic_type\": \"\",\n        \"description\": \"\"\n      }\n    },\n    {\n      \"column\": \"acousticness\",\n      \"properties\": {\n        \"dtype\": \"number\",\n        \"std\": 0.25998925978484,\n        \"min\": 2.84e-06,\n        \"max\": 0.995,\n        \"num_unique_values\": 1394,\n        \"samples\": [\n          0.27,\n          0.00461,\n          0.0839\n        ],\n        \"semantic_type\": \"\",\n        \"description\": \"\"\n      }\n    },\n    {\n      \"column\": \"danceability\",\n      \"properties\": {\n        \"dtype\": \"number\",\n        \"std\": 0.16102896742175046,\n        \"min\": 0.122,\n        \"max\": 0.984,\n        \"num_unique_values\": 632,\n        \"samples\": [\n          0.874,\n          0.677,\n          0.504\n        ],\n        \"semantic_type\": \"\",\n        \"description\": \"\"\n      }\n    },\n    {\n      \"column\": \"duration_ms\",\n      \"properties\": {\n        \"dtype\": \"number\",\n        \"std\": 81981,\n        \"min\": 16042,\n        \"max\": 1004627,\n        \"num_unique_values\": 1921,\n        \"samples\": [\n          187813,\n          200677,\n          227327\n        ],\n        \"semantic_type\": \"\",\n        \"description\": \"\"\n      }\n    },\n    {\n      \"column\": \"energy\",\n      \"properties\": {\n        \"dtype\": \"number\",\n        \"std\": 0.21027300892392287,\n        \"min\": 0.0148,\n        \"max\": 0.998,\n        \"num_unique_values\": 719,\n        \"samples\": [\n          0.416,\n          0.901,\n          0.402\n        ],\n        \"semantic_type\": \"\",\n        \"description\": \"\"\n      }\n    },\n    {\n      \"column\": \"instrumentalness\",\n      \"properties\": {\n        \"dtype\": \"number\",\n        \"std\": 0.2731621791497382,\n        \"min\": 0.0,\n        \"max\": 0.976,\n        \"num_unique_values\": 1107,\n        \"samples\": [\n          0.84,\n          0.00055,\n          0.00155\n        ],\n        \"semantic_type\": \"\",\n        \"description\": \"\"\n      }\n    },\n    {\n      \"column\": \"key\",\n      \"properties\": {\n        \"dtype\": \"number\",\n        \"std\": 3,\n        \"min\": 0,\n        \"max\": 11,\n        \"num_unique_values\": 12,\n        \"samples\": [\n          4,\n          6,\n          2\n        ],\n        \"semantic_type\": \"\",\n        \"description\": \"\"\n      }\n    },\n    {\n      \"column\": \"liveness\",\n      \"properties\": {\n        \"dtype\": \"number\",\n        \"std\": 0.15545316501490128,\n        \"min\": 0.0188,\n        \"max\": 0.969,\n        \"num_unique_values\": 793,\n        \"samples\": [\n          0.0832,\n          0.382,\n          0.0465\n        ],\n        \"semantic_type\": \"\",\n        \"description\": \"\"\n      }\n    },\n    {\n      \"column\": \"loudness\",\n      \"properties\": {\n        \"dtype\": \"number\",\n        \"std\": 3.761684274618797,\n        \"min\": -33.097,\n        \"max\": -0.307,\n        \"num_unique_values\": 1808,\n        \"samples\": [\n          -4.639,\n          -7.83,\n          -5.749\n        ],\n        \"semantic_type\": \"\",\n        \"description\": \"\"\n      }\n    },\n    {\n      \"column\": \"mode\",\n      \"properties\": {\n        \"dtype\": \"number\",\n        \"std\": 0,\n        \"min\": 0,\n        \"max\": 1,\n        \"num_unique_values\": 2,\n        \"samples\": [\n          0,\n          1\n        ],\n        \"semantic_type\": \"\",\n        \"description\": \"\"\n      }\n    },\n    {\n      \"column\": \"speechiness\",\n      \"properties\": {\n        \"dtype\": \"number\",\n        \"std\": 0.08993146446017325,\n        \"min\": 0.0231,\n        \"max\": 0.816,\n        \"num_unique_values\": 792,\n        \"samples\": [\n          0.0901,\n          0.0325\n        ],\n        \"semantic_type\": \"\",\n        \"description\": \"\"\n      }\n    },\n    {\n      \"column\": \"tempo\",\n      \"properties\": {\n        \"dtype\": \"number\",\n        \"std\": 26.685603730436636,\n        \"min\": 47.859,\n        \"max\": 219.331,\n        \"num_unique_values\": 1919,\n        \"samples\": [\n          126.112,\n          123.036\n        ],\n        \"semantic_type\": \"\",\n        \"description\": \"\"\n      }\n    },\n    {\n      \"column\": \"time_signature\",\n      \"properties\": {\n        \"dtype\": \"number\",\n        \"std\": 0.2558533624848524,\n        \"min\": 1.0,\n        \"max\": 5.0,\n        \"num_unique_values\": 4,\n        \"samples\": [\n          3.0,\n          1.0\n        ],\n        \"semantic_type\": \"\",\n        \"description\": \"\"\n      }\n    },\n    {\n      \"column\": \"valence\",\n      \"properties\": {\n        \"dtype\": \"number\",\n        \"std\": 0.24719546872735612,\n        \"min\": 0.0348,\n        \"max\": 0.992,\n        \"num_unique_values\": 853,\n        \"samples\": [\n          0.361,\n          0.306\n        ],\n        \"semantic_type\": \"\",\n        \"description\": \"\"\n      }\n    },\n    {\n      \"column\": \"target\",\n      \"properties\": {\n        \"dtype\": \"number\",\n        \"std\": 0,\n        \"min\": 0,\n        \"max\": 1,\n        \"num_unique_values\": 2,\n        \"samples\": [\n          0,\n          1\n        ],\n        \"semantic_type\": \"\",\n        \"description\": \"\"\n      }\n    },\n    {\n      \"column\": \"song_title\",\n      \"properties\": {\n        \"dtype\": \"string\",\n        \"num_unique_values\": 1956,\n        \"samples\": [\n          \"Morning Call - Remix Version\",\n          \"All My Life\"\n        ],\n        \"semantic_type\": \"\",\n        \"description\": \"\"\n      }\n    },\n    {\n      \"column\": \"artist\",\n      \"properties\": {\n        \"dtype\": \"string\",\n        \"num_unique_values\": 1343,\n        \"samples\": [\n          \"Mallary Hope\",\n          \"Patrick Di Stefano\"\n        ],\n        \"semantic_type\": \"\",\n        \"description\": \"\"\n      }\n    }\n  ]\n}"
            }
          },
          "metadata": {},
          "execution_count": 4
        }
      ]
    },
    {
      "cell_type": "code",
      "source": [
        "#tamaño del data set para saber si cumple con los requisitos exigidos ( al menos 2000 filas y al menos 15 columnas.)\n",
        "df_2.shape\n",
        "print(\"El dataset 'songAttributes_1999-2019.csv' cumple con los requisitos exigidos.\")"
      ],
      "metadata": {
        "colab": {
          "base_uri": "https://localhost:8080/"
        },
        "id": "vXGlVw9AnOnD",
        "outputId": "1e5494cc-0429-40ec-db10-5b4670705248"
      },
      "execution_count": 5,
      "outputs": [
        {
          "output_type": "stream",
          "name": "stdout",
          "text": [
            "El dataset 'songAttributes_1999-2019.csv' cumple con los requisitos exigidos.\n"
          ]
        }
      ]
    },
    {
      "cell_type": "code",
      "source": [
        "#metodo para describir las variables del data set y redondear los valores decimales a 2 cifras\n",
        "df_2.describe().round(2)"
      ],
      "metadata": {
        "colab": {
          "base_uri": "https://localhost:8080/",
          "height": 337
        },
        "id": "xUr-fyGOpQeH",
        "outputId": "4562babb-435f-462c-dfca-74c240908628"
      },
      "execution_count": 6,
      "outputs": [
        {
          "output_type": "execute_result",
          "data": {
            "text/plain": [
              "       Unnamed: 0  acousticness  danceability  duration_ms   energy  \\\n",
              "count      2017.0       2017.00       2017.00      2017.00  2017.00   \n",
              "mean       1008.0          0.19          0.62    246306.20     0.68   \n",
              "std         582.4          0.26          0.16     81981.81     0.21   \n",
              "min           0.0          0.00          0.12     16042.00     0.01   \n",
              "25%         504.0          0.01          0.51    200015.00     0.56   \n",
              "50%        1008.0          0.06          0.63    229261.00     0.72   \n",
              "75%        1512.0          0.26          0.74    270333.00     0.85   \n",
              "max        2016.0          1.00          0.98   1004627.00     1.00   \n",
              "\n",
              "       instrumentalness      key  liveness  loudness     mode  speechiness  \\\n",
              "count           2017.00  2017.00   2017.00   2017.00  2017.00      2017.00   \n",
              "mean               0.13     5.34      0.19     -7.09     0.61         0.09   \n",
              "std                0.27     3.65      0.16      3.76     0.49         0.09   \n",
              "min                0.00     0.00      0.02    -33.10     0.00         0.02   \n",
              "25%                0.00     2.00      0.09     -8.39     0.00         0.04   \n",
              "50%                0.00     6.00      0.13     -6.25     1.00         0.05   \n",
              "75%                0.05     9.00      0.25     -4.75     1.00         0.11   \n",
              "max                0.98    11.00      0.97     -0.31     1.00         0.82   \n",
              "\n",
              "         tempo  time_signature  valence   target  \n",
              "count  2017.00         2017.00  2017.00  2017.00  \n",
              "mean    121.60            3.97     0.50     0.51  \n",
              "std      26.69            0.26     0.25     0.50  \n",
              "min      47.86            1.00     0.03     0.00  \n",
              "25%     100.19            4.00     0.30     0.00  \n",
              "50%     121.43            4.00     0.49     1.00  \n",
              "75%     137.85            4.00     0.69     1.00  \n",
              "max     219.33            5.00     0.99     1.00  "
            ],
            "text/html": [
              "\n",
              "  <div id=\"df-f33d1c36-a6ce-4512-ab0a-377cff3a372b\" class=\"colab-df-container\">\n",
              "    <div>\n",
              "<style scoped>\n",
              "    .dataframe tbody tr th:only-of-type {\n",
              "        vertical-align: middle;\n",
              "    }\n",
              "\n",
              "    .dataframe tbody tr th {\n",
              "        vertical-align: top;\n",
              "    }\n",
              "\n",
              "    .dataframe thead th {\n",
              "        text-align: right;\n",
              "    }\n",
              "</style>\n",
              "<table border=\"1\" class=\"dataframe\">\n",
              "  <thead>\n",
              "    <tr style=\"text-align: right;\">\n",
              "      <th></th>\n",
              "      <th>Unnamed: 0</th>\n",
              "      <th>acousticness</th>\n",
              "      <th>danceability</th>\n",
              "      <th>duration_ms</th>\n",
              "      <th>energy</th>\n",
              "      <th>instrumentalness</th>\n",
              "      <th>key</th>\n",
              "      <th>liveness</th>\n",
              "      <th>loudness</th>\n",
              "      <th>mode</th>\n",
              "      <th>speechiness</th>\n",
              "      <th>tempo</th>\n",
              "      <th>time_signature</th>\n",
              "      <th>valence</th>\n",
              "      <th>target</th>\n",
              "    </tr>\n",
              "  </thead>\n",
              "  <tbody>\n",
              "    <tr>\n",
              "      <th>count</th>\n",
              "      <td>2017.0</td>\n",
              "      <td>2017.00</td>\n",
              "      <td>2017.00</td>\n",
              "      <td>2017.00</td>\n",
              "      <td>2017.00</td>\n",
              "      <td>2017.00</td>\n",
              "      <td>2017.00</td>\n",
              "      <td>2017.00</td>\n",
              "      <td>2017.00</td>\n",
              "      <td>2017.00</td>\n",
              "      <td>2017.00</td>\n",
              "      <td>2017.00</td>\n",
              "      <td>2017.00</td>\n",
              "      <td>2017.00</td>\n",
              "      <td>2017.00</td>\n",
              "    </tr>\n",
              "    <tr>\n",
              "      <th>mean</th>\n",
              "      <td>1008.0</td>\n",
              "      <td>0.19</td>\n",
              "      <td>0.62</td>\n",
              "      <td>246306.20</td>\n",
              "      <td>0.68</td>\n",
              "      <td>0.13</td>\n",
              "      <td>5.34</td>\n",
              "      <td>0.19</td>\n",
              "      <td>-7.09</td>\n",
              "      <td>0.61</td>\n",
              "      <td>0.09</td>\n",
              "      <td>121.60</td>\n",
              "      <td>3.97</td>\n",
              "      <td>0.50</td>\n",
              "      <td>0.51</td>\n",
              "    </tr>\n",
              "    <tr>\n",
              "      <th>std</th>\n",
              "      <td>582.4</td>\n",
              "      <td>0.26</td>\n",
              "      <td>0.16</td>\n",
              "      <td>81981.81</td>\n",
              "      <td>0.21</td>\n",
              "      <td>0.27</td>\n",
              "      <td>3.65</td>\n",
              "      <td>0.16</td>\n",
              "      <td>3.76</td>\n",
              "      <td>0.49</td>\n",
              "      <td>0.09</td>\n",
              "      <td>26.69</td>\n",
              "      <td>0.26</td>\n",
              "      <td>0.25</td>\n",
              "      <td>0.50</td>\n",
              "    </tr>\n",
              "    <tr>\n",
              "      <th>min</th>\n",
              "      <td>0.0</td>\n",
              "      <td>0.00</td>\n",
              "      <td>0.12</td>\n",
              "      <td>16042.00</td>\n",
              "      <td>0.01</td>\n",
              "      <td>0.00</td>\n",
              "      <td>0.00</td>\n",
              "      <td>0.02</td>\n",
              "      <td>-33.10</td>\n",
              "      <td>0.00</td>\n",
              "      <td>0.02</td>\n",
              "      <td>47.86</td>\n",
              "      <td>1.00</td>\n",
              "      <td>0.03</td>\n",
              "      <td>0.00</td>\n",
              "    </tr>\n",
              "    <tr>\n",
              "      <th>25%</th>\n",
              "      <td>504.0</td>\n",
              "      <td>0.01</td>\n",
              "      <td>0.51</td>\n",
              "      <td>200015.00</td>\n",
              "      <td>0.56</td>\n",
              "      <td>0.00</td>\n",
              "      <td>2.00</td>\n",
              "      <td>0.09</td>\n",
              "      <td>-8.39</td>\n",
              "      <td>0.00</td>\n",
              "      <td>0.04</td>\n",
              "      <td>100.19</td>\n",
              "      <td>4.00</td>\n",
              "      <td>0.30</td>\n",
              "      <td>0.00</td>\n",
              "    </tr>\n",
              "    <tr>\n",
              "      <th>50%</th>\n",
              "      <td>1008.0</td>\n",
              "      <td>0.06</td>\n",
              "      <td>0.63</td>\n",
              "      <td>229261.00</td>\n",
              "      <td>0.72</td>\n",
              "      <td>0.00</td>\n",
              "      <td>6.00</td>\n",
              "      <td>0.13</td>\n",
              "      <td>-6.25</td>\n",
              "      <td>1.00</td>\n",
              "      <td>0.05</td>\n",
              "      <td>121.43</td>\n",
              "      <td>4.00</td>\n",
              "      <td>0.49</td>\n",
              "      <td>1.00</td>\n",
              "    </tr>\n",
              "    <tr>\n",
              "      <th>75%</th>\n",
              "      <td>1512.0</td>\n",
              "      <td>0.26</td>\n",
              "      <td>0.74</td>\n",
              "      <td>270333.00</td>\n",
              "      <td>0.85</td>\n",
              "      <td>0.05</td>\n",
              "      <td>9.00</td>\n",
              "      <td>0.25</td>\n",
              "      <td>-4.75</td>\n",
              "      <td>1.00</td>\n",
              "      <td>0.11</td>\n",
              "      <td>137.85</td>\n",
              "      <td>4.00</td>\n",
              "      <td>0.69</td>\n",
              "      <td>1.00</td>\n",
              "    </tr>\n",
              "    <tr>\n",
              "      <th>max</th>\n",
              "      <td>2016.0</td>\n",
              "      <td>1.00</td>\n",
              "      <td>0.98</td>\n",
              "      <td>1004627.00</td>\n",
              "      <td>1.00</td>\n",
              "      <td>0.98</td>\n",
              "      <td>11.00</td>\n",
              "      <td>0.97</td>\n",
              "      <td>-0.31</td>\n",
              "      <td>1.00</td>\n",
              "      <td>0.82</td>\n",
              "      <td>219.33</td>\n",
              "      <td>5.00</td>\n",
              "      <td>0.99</td>\n",
              "      <td>1.00</td>\n",
              "    </tr>\n",
              "  </tbody>\n",
              "</table>\n",
              "</div>\n",
              "    <div class=\"colab-df-buttons\">\n",
              "\n",
              "  <div class=\"colab-df-container\">\n",
              "    <button class=\"colab-df-convert\" onclick=\"convertToInteractive('df-f33d1c36-a6ce-4512-ab0a-377cff3a372b')\"\n",
              "            title=\"Convert this dataframe to an interactive table.\"\n",
              "            style=\"display:none;\">\n",
              "\n",
              "  <svg xmlns=\"http://www.w3.org/2000/svg\" height=\"24px\" viewBox=\"0 -960 960 960\">\n",
              "    <path d=\"M120-120v-720h720v720H120Zm60-500h600v-160H180v160Zm220 220h160v-160H400v160Zm0 220h160v-160H400v160ZM180-400h160v-160H180v160Zm440 0h160v-160H620v160ZM180-180h160v-160H180v160Zm440 0h160v-160H620v160Z\"/>\n",
              "  </svg>\n",
              "    </button>\n",
              "\n",
              "  <style>\n",
              "    .colab-df-container {\n",
              "      display:flex;\n",
              "      gap: 12px;\n",
              "    }\n",
              "\n",
              "    .colab-df-convert {\n",
              "      background-color: #E8F0FE;\n",
              "      border: none;\n",
              "      border-radius: 50%;\n",
              "      cursor: pointer;\n",
              "      display: none;\n",
              "      fill: #1967D2;\n",
              "      height: 32px;\n",
              "      padding: 0 0 0 0;\n",
              "      width: 32px;\n",
              "    }\n",
              "\n",
              "    .colab-df-convert:hover {\n",
              "      background-color: #E2EBFA;\n",
              "      box-shadow: 0px 1px 2px rgba(60, 64, 67, 0.3), 0px 1px 3px 1px rgba(60, 64, 67, 0.15);\n",
              "      fill: #174EA6;\n",
              "    }\n",
              "\n",
              "    .colab-df-buttons div {\n",
              "      margin-bottom: 4px;\n",
              "    }\n",
              "\n",
              "    [theme=dark] .colab-df-convert {\n",
              "      background-color: #3B4455;\n",
              "      fill: #D2E3FC;\n",
              "    }\n",
              "\n",
              "    [theme=dark] .colab-df-convert:hover {\n",
              "      background-color: #434B5C;\n",
              "      box-shadow: 0px 1px 3px 1px rgba(0, 0, 0, 0.15);\n",
              "      filter: drop-shadow(0px 1px 2px rgba(0, 0, 0, 0.3));\n",
              "      fill: #FFFFFF;\n",
              "    }\n",
              "  </style>\n",
              "\n",
              "    <script>\n",
              "      const buttonEl =\n",
              "        document.querySelector('#df-f33d1c36-a6ce-4512-ab0a-377cff3a372b button.colab-df-convert');\n",
              "      buttonEl.style.display =\n",
              "        google.colab.kernel.accessAllowed ? 'block' : 'none';\n",
              "\n",
              "      async function convertToInteractive(key) {\n",
              "        const element = document.querySelector('#df-f33d1c36-a6ce-4512-ab0a-377cff3a372b');\n",
              "        const dataTable =\n",
              "          await google.colab.kernel.invokeFunction('convertToInteractive',\n",
              "                                                    [key], {});\n",
              "        if (!dataTable) return;\n",
              "\n",
              "        const docLinkHtml = 'Like what you see? Visit the ' +\n",
              "          '<a target=\"_blank\" href=https://colab.research.google.com/notebooks/data_table.ipynb>data table notebook</a>'\n",
              "          + ' to learn more about interactive tables.';\n",
              "        element.innerHTML = '';\n",
              "        dataTable['output_type'] = 'display_data';\n",
              "        await google.colab.output.renderOutput(dataTable, element);\n",
              "        const docLink = document.createElement('div');\n",
              "        docLink.innerHTML = docLinkHtml;\n",
              "        element.appendChild(docLink);\n",
              "      }\n",
              "    </script>\n",
              "  </div>\n",
              "\n",
              "\n",
              "<div id=\"df-20baf672-5ad1-4976-8572-a35e2cba7f96\">\n",
              "  <button class=\"colab-df-quickchart\" onclick=\"quickchart('df-20baf672-5ad1-4976-8572-a35e2cba7f96')\"\n",
              "            title=\"Suggest charts\"\n",
              "            style=\"display:none;\">\n",
              "\n",
              "<svg xmlns=\"http://www.w3.org/2000/svg\" height=\"24px\"viewBox=\"0 0 24 24\"\n",
              "     width=\"24px\">\n",
              "    <g>\n",
              "        <path d=\"M19 3H5c-1.1 0-2 .9-2 2v14c0 1.1.9 2 2 2h14c1.1 0 2-.9 2-2V5c0-1.1-.9-2-2-2zM9 17H7v-7h2v7zm4 0h-2V7h2v10zm4 0h-2v-4h2v4z\"/>\n",
              "    </g>\n",
              "</svg>\n",
              "  </button>\n",
              "\n",
              "<style>\n",
              "  .colab-df-quickchart {\n",
              "      --bg-color: #E8F0FE;\n",
              "      --fill-color: #1967D2;\n",
              "      --hover-bg-color: #E2EBFA;\n",
              "      --hover-fill-color: #174EA6;\n",
              "      --disabled-fill-color: #AAA;\n",
              "      --disabled-bg-color: #DDD;\n",
              "  }\n",
              "\n",
              "  [theme=dark] .colab-df-quickchart {\n",
              "      --bg-color: #3B4455;\n",
              "      --fill-color: #D2E3FC;\n",
              "      --hover-bg-color: #434B5C;\n",
              "      --hover-fill-color: #FFFFFF;\n",
              "      --disabled-bg-color: #3B4455;\n",
              "      --disabled-fill-color: #666;\n",
              "  }\n",
              "\n",
              "  .colab-df-quickchart {\n",
              "    background-color: var(--bg-color);\n",
              "    border: none;\n",
              "    border-radius: 50%;\n",
              "    cursor: pointer;\n",
              "    display: none;\n",
              "    fill: var(--fill-color);\n",
              "    height: 32px;\n",
              "    padding: 0;\n",
              "    width: 32px;\n",
              "  }\n",
              "\n",
              "  .colab-df-quickchart:hover {\n",
              "    background-color: var(--hover-bg-color);\n",
              "    box-shadow: 0 1px 2px rgba(60, 64, 67, 0.3), 0 1px 3px 1px rgba(60, 64, 67, 0.15);\n",
              "    fill: var(--button-hover-fill-color);\n",
              "  }\n",
              "\n",
              "  .colab-df-quickchart-complete:disabled,\n",
              "  .colab-df-quickchart-complete:disabled:hover {\n",
              "    background-color: var(--disabled-bg-color);\n",
              "    fill: var(--disabled-fill-color);\n",
              "    box-shadow: none;\n",
              "  }\n",
              "\n",
              "  .colab-df-spinner {\n",
              "    border: 2px solid var(--fill-color);\n",
              "    border-color: transparent;\n",
              "    border-bottom-color: var(--fill-color);\n",
              "    animation:\n",
              "      spin 1s steps(1) infinite;\n",
              "  }\n",
              "\n",
              "  @keyframes spin {\n",
              "    0% {\n",
              "      border-color: transparent;\n",
              "      border-bottom-color: var(--fill-color);\n",
              "      border-left-color: var(--fill-color);\n",
              "    }\n",
              "    20% {\n",
              "      border-color: transparent;\n",
              "      border-left-color: var(--fill-color);\n",
              "      border-top-color: var(--fill-color);\n",
              "    }\n",
              "    30% {\n",
              "      border-color: transparent;\n",
              "      border-left-color: var(--fill-color);\n",
              "      border-top-color: var(--fill-color);\n",
              "      border-right-color: var(--fill-color);\n",
              "    }\n",
              "    40% {\n",
              "      border-color: transparent;\n",
              "      border-right-color: var(--fill-color);\n",
              "      border-top-color: var(--fill-color);\n",
              "    }\n",
              "    60% {\n",
              "      border-color: transparent;\n",
              "      border-right-color: var(--fill-color);\n",
              "    }\n",
              "    80% {\n",
              "      border-color: transparent;\n",
              "      border-right-color: var(--fill-color);\n",
              "      border-bottom-color: var(--fill-color);\n",
              "    }\n",
              "    90% {\n",
              "      border-color: transparent;\n",
              "      border-bottom-color: var(--fill-color);\n",
              "    }\n",
              "  }\n",
              "</style>\n",
              "\n",
              "  <script>\n",
              "    async function quickchart(key) {\n",
              "      const quickchartButtonEl =\n",
              "        document.querySelector('#' + key + ' button');\n",
              "      quickchartButtonEl.disabled = true;  // To prevent multiple clicks.\n",
              "      quickchartButtonEl.classList.add('colab-df-spinner');\n",
              "      try {\n",
              "        const charts = await google.colab.kernel.invokeFunction(\n",
              "            'suggestCharts', [key], {});\n",
              "      } catch (error) {\n",
              "        console.error('Error during call to suggestCharts:', error);\n",
              "      }\n",
              "      quickchartButtonEl.classList.remove('colab-df-spinner');\n",
              "      quickchartButtonEl.classList.add('colab-df-quickchart-complete');\n",
              "    }\n",
              "    (() => {\n",
              "      let quickchartButtonEl =\n",
              "        document.querySelector('#df-20baf672-5ad1-4976-8572-a35e2cba7f96 button');\n",
              "      quickchartButtonEl.style.display =\n",
              "        google.colab.kernel.accessAllowed ? 'block' : 'none';\n",
              "    })();\n",
              "  </script>\n",
              "</div>\n",
              "\n",
              "    </div>\n",
              "  </div>\n"
            ],
            "application/vnd.google.colaboratory.intrinsic+json": {
              "type": "dataframe",
              "summary": "{\n  \"name\": \"df_2\",\n  \"rows\": 8,\n  \"fields\": [\n    {\n      \"column\": \"Unnamed: 0\",\n      \"properties\": {\n        \"dtype\": \"number\",\n        \"std\": 726.7178579063542,\n        \"min\": 0.0,\n        \"max\": 2017.0,\n        \"num_unique_values\": 7,\n        \"samples\": [\n          2017.0,\n          1008.0,\n          1512.0\n        ],\n        \"semantic_type\": \"\",\n        \"description\": \"\"\n      }\n    },\n    {\n      \"column\": \"acousticness\",\n      \"properties\": {\n        \"dtype\": \"number\",\n        \"std\": 713.0273576147991,\n        \"min\": 0.0,\n        \"max\": 2017.0,\n        \"num_unique_values\": 7,\n        \"samples\": [\n          2017.0,\n          0.19,\n          0.06\n        ],\n        \"semantic_type\": \"\",\n        \"description\": \"\"\n      }\n    },\n    {\n      \"column\": \"danceability\",\n      \"properties\": {\n        \"dtype\": \"number\",\n        \"std\": 712.9273372311013,\n        \"min\": 0.12,\n        \"max\": 2017.0,\n        \"num_unique_values\": 8,\n        \"samples\": [\n          0.62,\n          0.63,\n          2017.0\n        ],\n        \"semantic_type\": \"\",\n        \"description\": \"\"\n      }\n    },\n    {\n      \"column\": \"duration_ms\",\n      \"properties\": {\n        \"dtype\": \"number\",\n        \"std\": 320035.6646718643,\n        \"min\": 2017.0,\n        \"max\": 1004627.0,\n        \"num_unique_values\": 8,\n        \"samples\": [\n          246306.2,\n          229261.0,\n          2017.0\n        ],\n        \"semantic_type\": \"\",\n        \"description\": \"\"\n      }\n    },\n    {\n      \"column\": \"energy\",\n      \"properties\": {\n        \"dtype\": \"number\",\n        \"std\": 712.913717328652,\n        \"min\": 0.01,\n        \"max\": 2017.0,\n        \"num_unique_values\": 8,\n        \"samples\": [\n          0.68,\n          0.72,\n          2017.0\n        ],\n        \"semantic_type\": \"\",\n        \"description\": \"\"\n      }\n    },\n    {\n      \"column\": \"instrumentalness\",\n      \"properties\": {\n        \"dtype\": \"number\",\n        \"std\": 713.0450391091815,\n        \"min\": 0.0,\n        \"max\": 2017.0,\n        \"num_unique_values\": 6,\n        \"samples\": [\n          2017.0,\n          0.13,\n          0.98\n        ],\n        \"semantic_type\": \"\",\n        \"description\": \"\"\n      }\n    },\n    {\n      \"column\": \"key\",\n      \"properties\": {\n        \"dtype\": \"number\",\n        \"std\": 711.2577866093981,\n        \"min\": 0.0,\n        \"max\": 2017.0,\n        \"num_unique_values\": 8,\n        \"samples\": [\n          5.34,\n          6.0,\n          2017.0\n        ],\n        \"semantic_type\": \"\",\n        \"description\": \"\"\n      }\n    },\n    {\n      \"column\": \"liveness\",\n      \"properties\": {\n        \"dtype\": \"number\",\n        \"std\": 713.0258323799155,\n        \"min\": 0.02,\n        \"max\": 2017.0,\n        \"num_unique_values\": 8,\n        \"samples\": [\n          0.19,\n          0.13,\n          2017.0\n        ],\n        \"semantic_type\": \"\",\n        \"description\": \"\"\n      }\n    },\n    {\n      \"column\": \"loudness\",\n      \"properties\": {\n        \"dtype\": \"number\",\n        \"std\": 716.0361856665685,\n        \"min\": -33.1,\n        \"max\": 2017.0,\n        \"num_unique_values\": 8,\n        \"samples\": [\n          -7.09,\n          -6.25,\n          2017.0\n        ],\n        \"semantic_type\": \"\",\n        \"description\": \"\"\n      }\n    },\n    {\n      \"column\": \"mode\",\n      \"properties\": {\n        \"dtype\": \"number\",\n        \"std\": 712.9102288657588,\n        \"min\": 0.0,\n        \"max\": 2017.0,\n        \"num_unique_values\": 5,\n        \"samples\": [\n          0.61,\n          1.0,\n          0.49\n        ],\n        \"semantic_type\": \"\",\n        \"description\": \"\"\n      }\n    },\n    {\n      \"column\": \"speechiness\",\n      \"properties\": {\n        \"dtype\": \"number\",\n        \"std\": 713.0556188635338,\n        \"min\": 0.02,\n        \"max\": 2017.0,\n        \"num_unique_values\": 7,\n        \"samples\": [\n          2017.0,\n          0.09,\n          0.11\n        ],\n        \"semantic_type\": \"\",\n        \"description\": \"\"\n      }\n    },\n    {\n      \"column\": \"tempo\",\n      \"properties\": {\n        \"dtype\": \"number\",\n        \"std\": 676.5032940250813,\n        \"min\": 26.69,\n        \"max\": 2017.0,\n        \"num_unique_values\": 8,\n        \"samples\": [\n          121.6,\n          121.43,\n          2017.0\n        ],\n        \"semantic_type\": \"\",\n        \"description\": \"\"\n      }\n    },\n    {\n      \"column\": \"time_signature\",\n      \"properties\": {\n        \"dtype\": \"number\",\n        \"std\": 711.9963336971717,\n        \"min\": 0.26,\n        \"max\": 2017.0,\n        \"num_unique_values\": 6,\n        \"samples\": [\n          2017.0,\n          3.97,\n          5.0\n        ],\n        \"semantic_type\": \"\",\n        \"description\": \"\"\n      }\n    },\n    {\n      \"column\": \"valence\",\n      \"properties\": {\n        \"dtype\": \"number\",\n        \"std\": 712.9530982257128,\n        \"min\": 0.03,\n        \"max\": 2017.0,\n        \"num_unique_values\": 8,\n        \"samples\": [\n          0.5,\n          0.49,\n          2017.0\n        ],\n        \"semantic_type\": \"\",\n        \"description\": \"\"\n      }\n    },\n    {\n      \"column\": \"target\",\n      \"properties\": {\n        \"dtype\": \"number\",\n        \"std\": 712.9147747689963,\n        \"min\": 0.0,\n        \"max\": 2017.0,\n        \"num_unique_values\": 5,\n        \"samples\": [\n          0.51,\n          1.0,\n          0.5\n        ],\n        \"semantic_type\": \"\",\n        \"description\": \"\"\n      }\n    }\n  ]\n}"
            }
          },
          "metadata": {},
          "execution_count": 6
        }
      ]
    },
    {
      "cell_type": "markdown",
      "source": [
        "A partir de esta descripción de las variables que componen el data set 'songAttributes_1999-2019.csv', podríamos ver algunas caracteristicas salientes: por ejemplo los ALTOS valores en promedio de Danceability (bailable) y Energy (energía) en contraposicion a los BAJOS valores de acústica (Acousticness) y e instrumentalidad (instrumentalness). ¿será que el autor del data set prefiere canciones más divertidas y bailables por sobre las melódicas y acústicas?"
      ],
      "metadata": {
        "id": "mOLEzmSiXCJ4"
      }
    },
    {
      "cell_type": "code",
      "source": [
        "df_2.describe(include='object')"
      ],
      "metadata": {
        "colab": {
          "base_uri": "https://localhost:8080/",
          "height": 175
        },
        "id": "aTjTaWVAs9yz",
        "outputId": "f9b6fb9d-700b-4a26-88b0-b2d43a2e642f"
      },
      "execution_count": 7,
      "outputs": [
        {
          "output_type": "execute_result",
          "data": {
            "text/plain": [
              "       song_title artist\n",
              "count        2017   2017\n",
              "unique       1956   1343\n",
              "top         River  Drake\n",
              "freq            3     16"
            ],
            "text/html": [
              "\n",
              "  <div id=\"df-9dcf2f95-923c-49e6-beb3-89ec3324fe6a\" class=\"colab-df-container\">\n",
              "    <div>\n",
              "<style scoped>\n",
              "    .dataframe tbody tr th:only-of-type {\n",
              "        vertical-align: middle;\n",
              "    }\n",
              "\n",
              "    .dataframe tbody tr th {\n",
              "        vertical-align: top;\n",
              "    }\n",
              "\n",
              "    .dataframe thead th {\n",
              "        text-align: right;\n",
              "    }\n",
              "</style>\n",
              "<table border=\"1\" class=\"dataframe\">\n",
              "  <thead>\n",
              "    <tr style=\"text-align: right;\">\n",
              "      <th></th>\n",
              "      <th>song_title</th>\n",
              "      <th>artist</th>\n",
              "    </tr>\n",
              "  </thead>\n",
              "  <tbody>\n",
              "    <tr>\n",
              "      <th>count</th>\n",
              "      <td>2017</td>\n",
              "      <td>2017</td>\n",
              "    </tr>\n",
              "    <tr>\n",
              "      <th>unique</th>\n",
              "      <td>1956</td>\n",
              "      <td>1343</td>\n",
              "    </tr>\n",
              "    <tr>\n",
              "      <th>top</th>\n",
              "      <td>River</td>\n",
              "      <td>Drake</td>\n",
              "    </tr>\n",
              "    <tr>\n",
              "      <th>freq</th>\n",
              "      <td>3</td>\n",
              "      <td>16</td>\n",
              "    </tr>\n",
              "  </tbody>\n",
              "</table>\n",
              "</div>\n",
              "    <div class=\"colab-df-buttons\">\n",
              "\n",
              "  <div class=\"colab-df-container\">\n",
              "    <button class=\"colab-df-convert\" onclick=\"convertToInteractive('df-9dcf2f95-923c-49e6-beb3-89ec3324fe6a')\"\n",
              "            title=\"Convert this dataframe to an interactive table.\"\n",
              "            style=\"display:none;\">\n",
              "\n",
              "  <svg xmlns=\"http://www.w3.org/2000/svg\" height=\"24px\" viewBox=\"0 -960 960 960\">\n",
              "    <path d=\"M120-120v-720h720v720H120Zm60-500h600v-160H180v160Zm220 220h160v-160H400v160Zm0 220h160v-160H400v160ZM180-400h160v-160H180v160Zm440 0h160v-160H620v160ZM180-180h160v-160H180v160Zm440 0h160v-160H620v160Z\"/>\n",
              "  </svg>\n",
              "    </button>\n",
              "\n",
              "  <style>\n",
              "    .colab-df-container {\n",
              "      display:flex;\n",
              "      gap: 12px;\n",
              "    }\n",
              "\n",
              "    .colab-df-convert {\n",
              "      background-color: #E8F0FE;\n",
              "      border: none;\n",
              "      border-radius: 50%;\n",
              "      cursor: pointer;\n",
              "      display: none;\n",
              "      fill: #1967D2;\n",
              "      height: 32px;\n",
              "      padding: 0 0 0 0;\n",
              "      width: 32px;\n",
              "    }\n",
              "\n",
              "    .colab-df-convert:hover {\n",
              "      background-color: #E2EBFA;\n",
              "      box-shadow: 0px 1px 2px rgba(60, 64, 67, 0.3), 0px 1px 3px 1px rgba(60, 64, 67, 0.15);\n",
              "      fill: #174EA6;\n",
              "    }\n",
              "\n",
              "    .colab-df-buttons div {\n",
              "      margin-bottom: 4px;\n",
              "    }\n",
              "\n",
              "    [theme=dark] .colab-df-convert {\n",
              "      background-color: #3B4455;\n",
              "      fill: #D2E3FC;\n",
              "    }\n",
              "\n",
              "    [theme=dark] .colab-df-convert:hover {\n",
              "      background-color: #434B5C;\n",
              "      box-shadow: 0px 1px 3px 1px rgba(0, 0, 0, 0.15);\n",
              "      filter: drop-shadow(0px 1px 2px rgba(0, 0, 0, 0.3));\n",
              "      fill: #FFFFFF;\n",
              "    }\n",
              "  </style>\n",
              "\n",
              "    <script>\n",
              "      const buttonEl =\n",
              "        document.querySelector('#df-9dcf2f95-923c-49e6-beb3-89ec3324fe6a button.colab-df-convert');\n",
              "      buttonEl.style.display =\n",
              "        google.colab.kernel.accessAllowed ? 'block' : 'none';\n",
              "\n",
              "      async function convertToInteractive(key) {\n",
              "        const element = document.querySelector('#df-9dcf2f95-923c-49e6-beb3-89ec3324fe6a');\n",
              "        const dataTable =\n",
              "          await google.colab.kernel.invokeFunction('convertToInteractive',\n",
              "                                                    [key], {});\n",
              "        if (!dataTable) return;\n",
              "\n",
              "        const docLinkHtml = 'Like what you see? Visit the ' +\n",
              "          '<a target=\"_blank\" href=https://colab.research.google.com/notebooks/data_table.ipynb>data table notebook</a>'\n",
              "          + ' to learn more about interactive tables.';\n",
              "        element.innerHTML = '';\n",
              "        dataTable['output_type'] = 'display_data';\n",
              "        await google.colab.output.renderOutput(dataTable, element);\n",
              "        const docLink = document.createElement('div');\n",
              "        docLink.innerHTML = docLinkHtml;\n",
              "        element.appendChild(docLink);\n",
              "      }\n",
              "    </script>\n",
              "  </div>\n",
              "\n",
              "\n",
              "<div id=\"df-a4779022-b0cb-44a1-ab34-ec814921c29c\">\n",
              "  <button class=\"colab-df-quickchart\" onclick=\"quickchart('df-a4779022-b0cb-44a1-ab34-ec814921c29c')\"\n",
              "            title=\"Suggest charts\"\n",
              "            style=\"display:none;\">\n",
              "\n",
              "<svg xmlns=\"http://www.w3.org/2000/svg\" height=\"24px\"viewBox=\"0 0 24 24\"\n",
              "     width=\"24px\">\n",
              "    <g>\n",
              "        <path d=\"M19 3H5c-1.1 0-2 .9-2 2v14c0 1.1.9 2 2 2h14c1.1 0 2-.9 2-2V5c0-1.1-.9-2-2-2zM9 17H7v-7h2v7zm4 0h-2V7h2v10zm4 0h-2v-4h2v4z\"/>\n",
              "    </g>\n",
              "</svg>\n",
              "  </button>\n",
              "\n",
              "<style>\n",
              "  .colab-df-quickchart {\n",
              "      --bg-color: #E8F0FE;\n",
              "      --fill-color: #1967D2;\n",
              "      --hover-bg-color: #E2EBFA;\n",
              "      --hover-fill-color: #174EA6;\n",
              "      --disabled-fill-color: #AAA;\n",
              "      --disabled-bg-color: #DDD;\n",
              "  }\n",
              "\n",
              "  [theme=dark] .colab-df-quickchart {\n",
              "      --bg-color: #3B4455;\n",
              "      --fill-color: #D2E3FC;\n",
              "      --hover-bg-color: #434B5C;\n",
              "      --hover-fill-color: #FFFFFF;\n",
              "      --disabled-bg-color: #3B4455;\n",
              "      --disabled-fill-color: #666;\n",
              "  }\n",
              "\n",
              "  .colab-df-quickchart {\n",
              "    background-color: var(--bg-color);\n",
              "    border: none;\n",
              "    border-radius: 50%;\n",
              "    cursor: pointer;\n",
              "    display: none;\n",
              "    fill: var(--fill-color);\n",
              "    height: 32px;\n",
              "    padding: 0;\n",
              "    width: 32px;\n",
              "  }\n",
              "\n",
              "  .colab-df-quickchart:hover {\n",
              "    background-color: var(--hover-bg-color);\n",
              "    box-shadow: 0 1px 2px rgba(60, 64, 67, 0.3), 0 1px 3px 1px rgba(60, 64, 67, 0.15);\n",
              "    fill: var(--button-hover-fill-color);\n",
              "  }\n",
              "\n",
              "  .colab-df-quickchart-complete:disabled,\n",
              "  .colab-df-quickchart-complete:disabled:hover {\n",
              "    background-color: var(--disabled-bg-color);\n",
              "    fill: var(--disabled-fill-color);\n",
              "    box-shadow: none;\n",
              "  }\n",
              "\n",
              "  .colab-df-spinner {\n",
              "    border: 2px solid var(--fill-color);\n",
              "    border-color: transparent;\n",
              "    border-bottom-color: var(--fill-color);\n",
              "    animation:\n",
              "      spin 1s steps(1) infinite;\n",
              "  }\n",
              "\n",
              "  @keyframes spin {\n",
              "    0% {\n",
              "      border-color: transparent;\n",
              "      border-bottom-color: var(--fill-color);\n",
              "      border-left-color: var(--fill-color);\n",
              "    }\n",
              "    20% {\n",
              "      border-color: transparent;\n",
              "      border-left-color: var(--fill-color);\n",
              "      border-top-color: var(--fill-color);\n",
              "    }\n",
              "    30% {\n",
              "      border-color: transparent;\n",
              "      border-left-color: var(--fill-color);\n",
              "      border-top-color: var(--fill-color);\n",
              "      border-right-color: var(--fill-color);\n",
              "    }\n",
              "    40% {\n",
              "      border-color: transparent;\n",
              "      border-right-color: var(--fill-color);\n",
              "      border-top-color: var(--fill-color);\n",
              "    }\n",
              "    60% {\n",
              "      border-color: transparent;\n",
              "      border-right-color: var(--fill-color);\n",
              "    }\n",
              "    80% {\n",
              "      border-color: transparent;\n",
              "      border-right-color: var(--fill-color);\n",
              "      border-bottom-color: var(--fill-color);\n",
              "    }\n",
              "    90% {\n",
              "      border-color: transparent;\n",
              "      border-bottom-color: var(--fill-color);\n",
              "    }\n",
              "  }\n",
              "</style>\n",
              "\n",
              "  <script>\n",
              "    async function quickchart(key) {\n",
              "      const quickchartButtonEl =\n",
              "        document.querySelector('#' + key + ' button');\n",
              "      quickchartButtonEl.disabled = true;  // To prevent multiple clicks.\n",
              "      quickchartButtonEl.classList.add('colab-df-spinner');\n",
              "      try {\n",
              "        const charts = await google.colab.kernel.invokeFunction(\n",
              "            'suggestCharts', [key], {});\n",
              "      } catch (error) {\n",
              "        console.error('Error during call to suggestCharts:', error);\n",
              "      }\n",
              "      quickchartButtonEl.classList.remove('colab-df-spinner');\n",
              "      quickchartButtonEl.classList.add('colab-df-quickchart-complete');\n",
              "    }\n",
              "    (() => {\n",
              "      let quickchartButtonEl =\n",
              "        document.querySelector('#df-a4779022-b0cb-44a1-ab34-ec814921c29c button');\n",
              "      quickchartButtonEl.style.display =\n",
              "        google.colab.kernel.accessAllowed ? 'block' : 'none';\n",
              "    })();\n",
              "  </script>\n",
              "</div>\n",
              "\n",
              "    </div>\n",
              "  </div>\n"
            ],
            "application/vnd.google.colaboratory.intrinsic+json": {
              "type": "dataframe",
              "summary": "{\n  \"name\": \"df_2\",\n  \"rows\": 4,\n  \"fields\": [\n    {\n      \"column\": \"song_title\",\n      \"properties\": {\n        \"dtype\": \"string\",\n        \"num_unique_values\": 4,\n        \"samples\": [\n          1956,\n          \"3\",\n          \"2017\"\n        ],\n        \"semantic_type\": \"\",\n        \"description\": \"\"\n      }\n    },\n    {\n      \"column\": \"artist\",\n      \"properties\": {\n        \"dtype\": \"string\",\n        \"num_unique_values\": 4,\n        \"samples\": [\n          1343,\n          \"16\",\n          \"2017\"\n        ],\n        \"semantic_type\": \"\",\n        \"description\": \"\"\n      }\n    }\n  ]\n}"
            }
          },
          "metadata": {},
          "execution_count": 7
        }
      ]
    },
    {
      "cell_type": "markdown",
      "source": [
        "La descripción anterior nos anticipa que Drake es el artista más repetido del data set."
      ],
      "metadata": {
        "id": "-eKLFSgEpnDB"
      }
    },
    {
      "cell_type": "code",
      "source": [
        "#Identificar valores perdidos.\n",
        "df_2.isnull().sum()"
      ],
      "metadata": {
        "colab": {
          "base_uri": "https://localhost:8080/",
          "height": 617
        },
        "id": "wfmX0Eoio8Yw",
        "outputId": "47bf1dd0-5704-414a-e8b5-4f3770f238f9"
      },
      "execution_count": 8,
      "outputs": [
        {
          "output_type": "execute_result",
          "data": {
            "text/plain": [
              "Unnamed: 0          0\n",
              "acousticness        0\n",
              "danceability        0\n",
              "duration_ms         0\n",
              "energy              0\n",
              "instrumentalness    0\n",
              "key                 0\n",
              "liveness            0\n",
              "loudness            0\n",
              "mode                0\n",
              "speechiness         0\n",
              "tempo               0\n",
              "time_signature      0\n",
              "valence             0\n",
              "target              0\n",
              "song_title          0\n",
              "artist              0\n",
              "dtype: int64"
            ],
            "text/html": [
              "<div>\n",
              "<style scoped>\n",
              "    .dataframe tbody tr th:only-of-type {\n",
              "        vertical-align: middle;\n",
              "    }\n",
              "\n",
              "    .dataframe tbody tr th {\n",
              "        vertical-align: top;\n",
              "    }\n",
              "\n",
              "    .dataframe thead th {\n",
              "        text-align: right;\n",
              "    }\n",
              "</style>\n",
              "<table border=\"1\" class=\"dataframe\">\n",
              "  <thead>\n",
              "    <tr style=\"text-align: right;\">\n",
              "      <th></th>\n",
              "      <th>0</th>\n",
              "    </tr>\n",
              "  </thead>\n",
              "  <tbody>\n",
              "    <tr>\n",
              "      <th>Unnamed: 0</th>\n",
              "      <td>0</td>\n",
              "    </tr>\n",
              "    <tr>\n",
              "      <th>acousticness</th>\n",
              "      <td>0</td>\n",
              "    </tr>\n",
              "    <tr>\n",
              "      <th>danceability</th>\n",
              "      <td>0</td>\n",
              "    </tr>\n",
              "    <tr>\n",
              "      <th>duration_ms</th>\n",
              "      <td>0</td>\n",
              "    </tr>\n",
              "    <tr>\n",
              "      <th>energy</th>\n",
              "      <td>0</td>\n",
              "    </tr>\n",
              "    <tr>\n",
              "      <th>instrumentalness</th>\n",
              "      <td>0</td>\n",
              "    </tr>\n",
              "    <tr>\n",
              "      <th>key</th>\n",
              "      <td>0</td>\n",
              "    </tr>\n",
              "    <tr>\n",
              "      <th>liveness</th>\n",
              "      <td>0</td>\n",
              "    </tr>\n",
              "    <tr>\n",
              "      <th>loudness</th>\n",
              "      <td>0</td>\n",
              "    </tr>\n",
              "    <tr>\n",
              "      <th>mode</th>\n",
              "      <td>0</td>\n",
              "    </tr>\n",
              "    <tr>\n",
              "      <th>speechiness</th>\n",
              "      <td>0</td>\n",
              "    </tr>\n",
              "    <tr>\n",
              "      <th>tempo</th>\n",
              "      <td>0</td>\n",
              "    </tr>\n",
              "    <tr>\n",
              "      <th>time_signature</th>\n",
              "      <td>0</td>\n",
              "    </tr>\n",
              "    <tr>\n",
              "      <th>valence</th>\n",
              "      <td>0</td>\n",
              "    </tr>\n",
              "    <tr>\n",
              "      <th>target</th>\n",
              "      <td>0</td>\n",
              "    </tr>\n",
              "    <tr>\n",
              "      <th>song_title</th>\n",
              "      <td>0</td>\n",
              "    </tr>\n",
              "    <tr>\n",
              "      <th>artist</th>\n",
              "      <td>0</td>\n",
              "    </tr>\n",
              "  </tbody>\n",
              "</table>\n",
              "</div><br><label><b>dtype:</b> int64</label>"
            ]
          },
          "metadata": {},
          "execution_count": 8
        }
      ]
    },
    {
      "cell_type": "markdown",
      "source": [
        "El resultado anterior es muy importante porque nos dice que no hay valores nulos. Es decir que no hay datos faltantes."
      ],
      "metadata": {
        "id": "QDFQKrtspxDl"
      }
    },
    {
      "cell_type": "markdown",
      "source": [
        "# Preguntas/hipótesis\n",
        "interrogantes que surgen de la base de datos:\n",
        "##1.¿hay algún artista que sobresalga de los restantes?\n",
        "##2.¿qué clase de musica es la preferida para el autor de la base de datos, considerando las caracteristicas descriptas para cada canción?"
      ],
      "metadata": {
        "id": "lcCm9tpu_2E2"
      }
    },
    {
      "cell_type": "markdown",
      "source": [
        "#Objetivo\n",
        "Usaremos gráficos y visualizaciones para explorar y analizar el conjunto de datos del data set Spotify Song Attributes.\n",
        "\n",
        "El objetivo es explorarlos, investigarlos y aprender usando distintos métodos.\n",
        "\n",
        "Se busca analizar el perfil de gusto musical del autor de la base de datos.\n",
        "\n",
        "#Contexto analitíco\n",
        "Explorar el data set Spotify Song Attributes mediante la aplicacion de métodos y visualización a traves de distintas clases de gráficos que orienten el análisis y permitan la obtención de valiosos insights."
      ],
      "metadata": {
        "id": "5LRiiLsEExY8"
      }
    },
    {
      "cell_type": "code",
      "source": [
        "#cuáles son los artistas ordenandolos por cantidad de veces mencionados\n",
        "artist_counts = df_2['artist'].value_counts()\n",
        "artist_counts_sorted = artist_counts.sort_values(ascending=False)\n",
        "print(artist_counts_sorted)"
      ],
      "metadata": {
        "id": "eWtuYq8Hboi9",
        "outputId": "d44a0c9a-eb59-476c-f30e-68b4f30a00df",
        "colab": {
          "base_uri": "https://localhost:8080/"
        }
      },
      "execution_count": 9,
      "outputs": [
        {
          "output_type": "stream",
          "name": "stdout",
          "text": [
            "artist\n",
            "Drake              16\n",
            "Rick Ross          13\n",
            "Disclosure         12\n",
            "WALK THE MOON      10\n",
            "Backstreet Boys    10\n",
            "                   ..\n",
            "Stan Getz           1\n",
            "Ray Bryant          1\n",
            "Duke Ellington      1\n",
            "John Mayer          1\n",
            "Bleachers           1\n",
            "Name: count, Length: 1343, dtype: int64\n"
          ]
        }
      ]
    },
    {
      "cell_type": "code",
      "source": [
        "#serie con los primeros 5 artistas\n",
        "top_5_artists_series = artist_counts_sorted.head(5)\n",
        "print(top_5_artists_series)"
      ],
      "metadata": {
        "id": "G6NiJzEtcNaV",
        "outputId": "508c226e-9856-42be-908f-28f0a65bdf87",
        "colab": {
          "base_uri": "https://localhost:8080/"
        }
      },
      "execution_count": 10,
      "outputs": [
        {
          "output_type": "stream",
          "name": "stdout",
          "text": [
            "artist\n",
            "Drake              16\n",
            "Rick Ross          13\n",
            "Disclosure         12\n",
            "WALK THE MOON      10\n",
            "Backstreet Boys    10\n",
            "Name: count, dtype: int64\n"
          ]
        }
      ]
    },
    {
      "cell_type": "markdown",
      "source": [
        "Este método nos resume cuáles son los artistas Top 5 de la base de datos bajo análisis."
      ],
      "metadata": {
        "id": "sQ8PWQ3UfTZ3"
      }
    },
    {
      "cell_type": "code",
      "source": [
        "# Extraer los nombres de los artistas y sus conteos\n",
        "artistas = top_5_artists_series.index\n",
        "conteos = top_5_artists_series.values\n",
        "\n",
        "# Crear el gráfico de barras\n",
        "plt.figure(figsize=(10, 6))\n",
        "plt.bar(artistas, conteos)\n",
        "plt.xlabel('Artistas')\n",
        "plt.ylabel('Cantidad de canciones')\n",
        "plt.title('Top 5 Artistas más Repetidos en la base de datos Spotify Song Attributes')\n",
        "for i, v in enumerate(conteos):\n",
        "    plt.text(i, v, str(v), ha='center', va='bottom') #etiquetas con los valores\n",
        "plt.xticks(rotation=90, ha='right')\n",
        "x = 1\n",
        "y = 2\n",
        "x_offset = 0.5\n",
        "y_offset = 0.5\n",
        "\n",
        "# ubicar el indice de la  barra mas alta\n",
        "highest_bar_index = conteos.argmax()\n",
        "\n",
        "# ubicar la coordenada x de la  barra mas alta\n",
        "x = highest_bar_index\n",
        "\n",
        "# ubicar la coordenada y de la  barra mas alta\n",
        "y = conteos[highest_bar_index]\n",
        "\n",
        "# ajustar el ancho\n",
        "x_offset = -0.3\n",
        "y_offset = 10\n",
        "\n",
        "plt.annotate('Cantidad de Canciones', xy=(x, y), xytext=(x + x_offset, y + y_offset),\n",
        "             arrowprops=dict(facecolor='red', shrink=0.05, headlength=4)) # Adjust headlength as needed"
      ],
      "metadata": {
        "outputId": "bfd953d7-02a6-4492-b044-2dd8688215a1",
        "colab": {
          "base_uri": "https://localhost:8080/",
          "height": 930
        },
        "id": "Jrlr2J47gOrD"
      },
      "execution_count": 11,
      "outputs": [
        {
          "output_type": "execute_result",
          "data": {
            "text/plain": [
              "Text(-0.3, 26, 'Cantidad de Canciones')"
            ]
          },
          "metadata": {},
          "execution_count": 11
        },
        {
          "output_type": "display_data",
          "data": {
            "text/plain": [
              "<Figure size 1000x600 with 1 Axes>"
            ],
            "image/png": "[encoded data removed]"
          },
          "metadata": {}
        }
      ]
    },
    {
      "cell_type": "markdown",
      "source": [
        "Este gráfico es útil para comunicar de manera clara y concisa la frecuencia de los 5 artistas más repetidos en la base de datos \"Spotify Song Attributes\" y destacar al artista principal.\n",
        "Con la flecha roja se apunta el valor de las canciones del artista más mencionado en el data set. (16 canciones).\n",
        "Veamos ahora cómo es la proporcion entre los cinco artitas más mencionados en el data set para compararlos entre sí.\n",
        "\n"
      ],
      "metadata": {
        "id": "xH2vQdm-IEEK"
      }
    },
    {
      "cell_type": "code",
      "source": [
        "#ver la proporcion entre los 5 artistas mas mencionados en un grafico de torta usando Seaborn\n",
        "\n",
        "# Extraer los nombres de los artistas y sus conteos\n",
        "artistas = top_5_artists_series.index\n",
        "conteos = top_5_artists_series.values\n",
        "\n",
        "#  gráfico de torta\n",
        "plt.figure(figsize=(8, 8))\n",
        "sns.set_palette(\"pastel\")\n",
        "plt.pie(conteos, labels=artistas, autopct='%1.1f%%', startangle=90)\n",
        "plt.title('Top 5 Artistas Más Repetidos en la base de datos Spotify Song Attributes')\n",
        "plt.show()"
      ],
      "metadata": {
        "id": "7eiN08VeglT_",
        "outputId": "ddd9c074-99e3-4465-94b3-53e589d8df48",
        "colab": {
          "base_uri": "https://localhost:8080/",
          "height": 675
        }
      },
      "execution_count": 12,
      "outputs": [
        {
          "output_type": "display_data",
          "data": {
            "text/plain": [
              "<Figure size 800x800 with 1 Axes>"
            ],
            "image/png": "[encoded data removed]"
          },
          "metadata": {}
        }
      ]
    },
    {
      "cell_type": "markdown",
      "source": [
        "Si bien se advierte que el artista Drake es el principal del top 5, los 4 restantes no se encuentran sustancialmente muy alejados del primero. Es una distribucion bastante proporcional."
      ],
      "metadata": {
        "id": "otbmOS9Lsb7m"
      }
    },
    {
      "cell_type": "markdown",
      "source": [
        "##Analizaremos al artista 'preferido' del autor del data set, poniendo el foco en las canciones de 'Drake'."
      ],
      "metadata": {
        "id": "3ew7Jue9Id09"
      }
    },
    {
      "cell_type": "code",
      "source": [
        "#cuáles son las canciones del artista mas mencionado\n",
        "canciones_drake = df_2[df_2['artist'] == 'Drake']['song_title']\n",
        "print(canciones_drake)"
      ],
      "metadata": {
        "id": "K6RMPhhidea1",
        "outputId": "fd473610-2ece-4936-e071-ec46b186c68a",
        "colab": {
          "base_uri": "https://localhost:8080/"
        }
      },
      "execution_count": 13,
      "outputs": [
        {
          "output_type": "stream",
          "name": "stdout",
          "text": [
            "5                        Sneakin’\n",
            "6                     Childs Play\n",
            "37                        Jumpman\n",
            "117                 Hotline Bling\n",
            "154                     Big Rings\n",
            "158                 Know Yourself\n",
            "168               Wu-Tang Forever\n",
            "440                     Headlines\n",
            "589       Started From the Bottom\n",
            "676     Hold On, We're Going Home\n",
            "717     Hold On, We're Going Home\n",
            "779       0 To 100 / The Catch Up\n",
            "1016             Skepta Interlude\n",
            "1183                 Passionfruit\n",
            "1218              Best I Ever Had\n",
            "1223                    Take Care\n",
            "Name: song_title, dtype: object\n"
          ]
        }
      ]
    },
    {
      "cell_type": "markdown",
      "source": [
        "Ahora analicemos de tales canciones dónde se concentran los valores de las mismas dentro de la categoria 'danceability':"
      ],
      "metadata": {
        "id": "eTVLPvdMhvIF"
      }
    },
    {
      "cell_type": "code",
      "source": [
        "drake_danceability_df = df_2[df_2['artist'] == 'Drake'][['danceability']]\n",
        "#print(drake_danceability_df)\n",
        "\n",
        "plt.hist(drake_danceability_df['danceability'], bins=20)  # Adjust the number of bins as needed\n",
        "plt.xlabel('Danceability')\n",
        "plt.ylabel('Frequency')\n",
        "plt.title('Histograma de bailabilidad para las canciones de Drake')\n",
        "plt.show()"
      ],
      "metadata": {
        "id": "3zLGxZNXhmG2",
        "outputId": "db75467d-1ab0-42ec-d460-28b2a6aa19d8",
        "colab": {
          "base_uri": "https://localhost:8080/",
          "height": 472
        }
      },
      "execution_count": 14,
      "outputs": [
        {
          "output_type": "display_data",
          "data": {
            "text/plain": [
              "<Figure size 640x480 with 1 Axes>"
            ],
            "image/png": "[encoded data removed]"
          },
          "metadata": {}
        }
      ]
    },
    {
      "cell_type": "markdown",
      "source": [
        "Analizando el histograma de Danceability ´bailabilidad´ de las canciones de Drake se observa  una concentración de valores altos (hacia la derecha del gráfico), de modo que el insigh obtenido es que las canciones del artista Drake (de este data set) tienden a poseer un alto grado de bailabilidad."
      ],
      "metadata": {
        "id": "v4Xxc1DenODw"
      }
    },
    {
      "cell_type": "code",
      "source": [
        "import seaborn as sns\n",
        "import matplotlib.pyplot as plt\n",
        "# Canciones de Drake\n",
        "drake_songs = df_2[df_2['artist'] == 'Drake']\n",
        "\n",
        "# Columnas deseadas para el gráfico\n",
        "columnas_deseadas_grafico = ['acousticness', 'danceability', 'energy',\n",
        "                     'liveness',   'speechiness',   'valence']\n",
        "\n",
        "# Convierte la lista de Series en un DataFrame, seleccionando solo las columnas deseadas\n",
        "drake_df = pd.DataFrame(drake_songs)[columnas_deseadas_grafico]\n",
        "\n",
        "# Crea el diagrama de caja\n",
        "plt.figure(figsize=(12, 8))\n",
        "sns.boxplot(data=drake_df)\n",
        "plt.xticks(rotation=90, ha='right')\n",
        "plt.title('Distribución de características para canciones de Drake')\n",
        "plt.show()"
      ],
      "metadata": {
        "colab": {
          "base_uri": "https://localhost:8080/",
          "height": 774
        },
        "id": "o0oU1cIRuXWC",
        "outputId": "f2b01f16-546a-4feb-aab6-1cb43aa4d30a"
      },
      "execution_count": 19,
      "outputs": [
        {
          "output_type": "display_data",
          "data": {
            "text/plain": [
              "<Figure size 1200x800 with 1 Axes>"
            ],
            "image/png": "[encoded data removed]"
          },
          "metadata": {}
        }
      ]
    },
    {
      "cell_type": "markdown",
      "source": [
        "Insights:\n",
        "al comparar la distribución de las diferentes características se observa que la principal caracteristica de las canciones de Drake es que son bailables (mediana mas alta y rango pequeño) y en segundo lugar canciones energeticas (mediana alta).\n",
        "No hay canciones representadas por puntos fuera de los bigotes que permitan Identificar canciones atípicas.\n",
        "La dispersión de los datos en cada caja  da una idea de la variabilidad en cada característica del estilo musical de Drake. La caractiristica con valores mas bajos es 'acustico'.\n",
        "En este gráfico de cajas se observa la concordancia con la caracteristica 'bailable'(es donde mas se concentran los valores y donde se observan los valores mas altos y menos dispersos)."
      ],
      "metadata": {
        "id": "u0bvvNpUyikM"
      }
    },
    {
      "cell_type": "code",
      "source": [
        "#distribucion de las caracteristicas de las canciones del artista mas mencionado\n",
        "drake_songs = df_2[df_2['artist'] == 'Drake']\n",
        "import seaborn as sns\n",
        "import matplotlib.pyplot as plt\n",
        "\n",
        "columnas_deseadas = ['acousticness', 'danceability',  'energy', 'instrumentalness',\n",
        "                     'liveness',  'mode', 'speechiness',   'valence']\n",
        "\n",
        "# Calcula el promedio de cada característica\n",
        "promedios_drake = drake_songs[columnas_deseadas].mean()\n",
        "\n",
        "# Crea el gráfico de barras\n",
        "plt.figure(figsize=(12, 6))\n",
        "sns.barplot(x=promedios_drake.index, y=promedios_drake.values)\n",
        "plt.xticks(rotation=90, ha='right')\n",
        "plt.title('Valores promedio de características para canciones de Drake')\n",
        "plt.ylabel('Valor promedio')\n",
        "plt.xlabel('Característica')\n",
        "\n",
        "plt.show()"
      ],
      "metadata": {
        "id": "PtjtXapNe6sb",
        "outputId": "46eed4b9-e981-41d9-fd72-bbf82728d697",
        "colab": {
          "base_uri": "https://localhost:8080/",
          "height": 671
        }
      },
      "execution_count": 20,
      "outputs": [
        {
          "output_type": "display_data",
          "data": {
            "text/plain": [
              "<Figure size 1200x600 with 1 Axes>"
            ],
            "image/png": "[encoded data removed]"
          },
          "metadata": {}
        }
      ]
    },
    {
      "cell_type": "markdown",
      "source": [
        "en este grafico de barras (con los promedios de los valores de cada caracteristica) se puede interpretar conjuntamente con los dos graficos anteriores ( de histograma y el de barras). Con las tres clases de gráficos se infiere que la caracteristica 'bailable', es donde más se concentran los valores y donde se observan los valores mas altos y menos dispersos."
      ],
      "metadata": {
        "id": "AGjhfxfT5vSn"
      }
    },
    {
      "cell_type": "markdown",
      "source": [
        "Ahora analizaremos las 16 canciones de Drake de acuerdo a las caracteristicas de 'acousticness', 'danceability', 'energy', 'liveness', y 'speechiness' usando grafico de radar."
      ],
      "metadata": {
        "id": "GkIUbNAj7Ang"
      }
    },
    {
      "cell_type": "code",
      "source": [
        "import matplotlib.pyplot as plt\n",
        "import pandas as pd\n",
        "import numpy as np\n",
        "\n",
        "# Selecciona las columnas deseadas\n",
        "columnas_deseadas = ['acousticness', 'danceability', 'energy', 'liveness', 'speechiness']\n",
        "\n",
        "# Extrae los valores de las características para las canciones de Drake\n",
        "drake_data = df_2[df_2['artist'] == 'Drake'][columnas_deseadas]\n",
        "\n",
        "# Normaliza los valores entre 0 y 1\n",
        "drake_data_norm = (drake_data - drake_data.min()) / (drake_data.max() - drake_data.min())\n",
        "\n",
        "# Crea los ángulos para el gráfico de araña\n",
        "angulos = np.linspace(0, 2*np.pi, len(columnas_deseadas), endpoint=False)\n",
        "angulos = np.concatenate((angulos, [angulos[0]]))  # Cierra el círculo\n",
        "\n",
        "# Crea una cuadrícula de subplots (4 filas x 4 columnas)\n",
        "fig, axes = plt.subplots(4, 4, figsize=(16, 16), subplot_kw=dict(polar=True))\n",
        "\n",
        "# Itera sobre las canciones y crea los gráficos de radar\n",
        "for i in range(len(drake_data_norm)):\n",
        "    valores_cancion = drake_data_norm.iloc[i].values.tolist()\n",
        "    valores_cancion += valores_cancion[:1]  # Cierra el círculo para cada canción\n",
        "\n",
        "    # Obtén el título de la canción usando el índice\n",
        "    titulo_cancion = df_2[df_2['artist'] == 'Drake']['song_title'].iloc[i]\n",
        "\n",
        "    # Calcula la posición del subplot en la cuadrícula\n",
        "    fila = i // 4\n",
        "    columna = i % 4\n",
        "\n",
        "    # Crea el gráfico de radar en el subplot correspondiente\n",
        "    ax = axes[fila, columna]\n",
        "    ax.plot(angulos[:-1], valores_cancion[:-1], 'o-', linewidth=2)\n",
        "    ax.fill(angulos[:-1], valores_cancion[:-1], alpha=0.25)\n",
        "    ax.set_thetagrids(angulos[:-1] * 180/np.pi, columnas_deseadas)\n",
        "    ax.set_title(f'{titulo_cancion}', fontsize=12, fontweight='bold')\n",
        "\n",
        "plt.tight_layout()\n",
        "plt.show()"
      ],
      "metadata": {
        "id": "CQ8g7GGWuD1_"
      },
      "execution_count": null,
      "outputs": []
    },
    {
      "cell_type": "markdown",
      "source": [
        "Al visualizar los 16 gráficos de radar de cada canción del artista Drake, se puede obtener informacion sobre la variabilidad de su estilo musical ya que los gráficos tienen formas muy diferentes entre sí.\n",
        "\n",
        "Esto podría indicar que Drake experimenta con diferentes estilos musicales en sus canciones y donde la unica variable predominante  es 'bailable' ('danceability').\n",
        "\n",
        "Las características predominantes en su música: la mayoría de las canciones de Drake tienen alta energía y bailabilidad. Podria afirmarse que su música es generalmente enérgica y bailable.\n",
        "\n",
        "Canciones atípicas: el gráfico que se destaca del resto por tener una forma o valor muy diferente es el de la cancion 'Best I ever had' (por ser la unica cancion 'no bailale'. Esta cancion podría representar experimento musical o desviacion de su estilo habitual.\n",
        "\n",
        "Siguiendo el correlato con los analisis realizados mediante los graficos anteriores (de barra e histograma) la caracteristica más observada para las canciones de Drake es 'bailabilidad'."
      ],
      "metadata": {
        "id": "SIxEKTShwNUj"
      }
    },
    {
      "cell_type": "markdown",
      "source": [
        "Teniendo en cuenta que la variable 'bailable' se repite en los análisis efectuados, ahora desearia saber dónde se concentran los datos haciendo un histograma para la base de datos en estudio. ¿será que al autor de la base de datos le suelen gustar canciones bailables en general? ¿o eso sólo sucede con las canciones del grupo Drake -su grupo con mayor cantidad de canciones en la base de datos-?. Veamos:"
      ],
      "metadata": {
        "id": "jnQrU1ST8BUh"
      }
    },
    {
      "cell_type": "code",
      "source": [
        "import matplotlib.pyplot as plt\n",
        "import pandas as pd\n",
        "\n",
        "# Seleccion de las columnas deseadas\n",
        "columnas_deseadas = ['acousticness', 'danceability', 'energy', 'liveness', 'speechiness']\n",
        "\n",
        "# Creacion del histograma\n",
        "fig, axes = plt.subplots(1, len(columnas_deseadas), figsize=(15, 5))  # Crea subplots individuales\n",
        "df_2[columnas_deseadas].hist(ax=axes, bins=20)\n",
        "\n",
        "# Nuevos títulos\n",
        "nuevos_titulos = ['Acustica', 'Bailable', 'Energico', 'Viviacidad', 'Canciones Habladas']\n",
        "\n",
        "# Reemplazo los títulos de los gráficos\n",
        "for i, ax in enumerate(axes.flatten()):\n",
        "    ax.set_xlabel(nuevos_titulos[i])\n",
        "\n",
        "plt.suptitle('Histogramas de Características del data set Spotify Song Attributes', fontsize=16)\n",
        "plt.tight_layout(rect=[0, 0.03, 1, 0.95])\n",
        "plt.show()"
      ],
      "metadata": {
        "id": "AtOESuED74Nv"
      },
      "execution_count": null,
      "outputs": []
    },
    {
      "cell_type": "markdown",
      "source": [
        "Se puede inferir que, lo que sucede con las canciones de Drake tambien se replica para la mayoria de las canciones de la base de datos. Es decir que el autor de este data set tiende a preferir canciones bailables y enérgicas, con bajos valores para canciones acústicas, y habladas."
      ],
      "metadata": {
        "id": "iJZMeDlw9wqt"
      }
    },
    {
      "cell_type": "markdown",
      "source": [
        "Veamos ahora si esto mismo sucede respecto de los 5 artistas más repetidos en la base de datos, que ya habiamos obtenido más arriba: artistas_top_5 = ['Drake', 'Rick Ross', 'Disclosure', 'Walk the Moon', 'Backstreet Boys']\n"
      ],
      "metadata": {
        "id": "tQvCAryjBCL3"
      }
    },
    {
      "cell_type": "code",
      "source": [
        "import seaborn as sns\n",
        "import matplotlib.pyplot as plt\n",
        "\n",
        "# Artistas más repetidos (top 5)\n",
        "artistas_top = ['Drake', 'Rick Ross', 'Disclosure', 'WALK THE MOON', 'Backstreet Boys']\n",
        "\n",
        "# Filtra el dataframe para incluir solo las canciones de estos artistas\n",
        "df_filtrado = df_2[df_2['artist'].isin(artistas_top)]\n",
        "\n",
        "# Crea el diagrama de caja\n",
        "plt.figure(figsize=(10, 6))\n",
        "sns.boxplot(x='artist', y='danceability', data=df_filtrado)\n",
        "plt.xticks(rotation=90, ha='right')\n",
        "plt.title('Comparación de Danceability entre los Artistas top 5')\n",
        "plt.xlabel('Artistas')\n",
        "plt.ylabel('Danceability')\n",
        "plt.show()"
      ],
      "metadata": {
        "id": "Jhi0AQ8s74H1"
      },
      "execution_count": null,
      "outputs": []
    },
    {
      "cell_type": "markdown",
      "source": [
        "Al comparar la mediana, los cuartiles y los valores atípicos de 'danceability' entre los artistas top 5, se observa variabilidad en el nivel de bailabilidad de sus canciones. Por lo tanto, si bien el autor tiene una tendencia hacia las canciones bailables considerando TODA la base de datos, cuando se focaliza en los 5 artitas más repetidos, la caracteristica bailable varia entre 0.8 (valor máximo para 'Drake') a 0,45 (valor mínimo: para 'Walk The Moon')."
      ],
      "metadata": {
        "id": "jE7QHu3-BeqS"
      }
    },
    {
      "cell_type": "markdown",
      "source": [
        "Veamos el detalle de 'danceability' y 'energy' en un grafico de barras agrupadas para los 5 artistas más repetidos. Esto  permite visualizar la cantidad de canciones, así como los valores promedio de 'danceability' y 'energy' para cada artista.\n",
        "\n"
      ],
      "metadata": {
        "id": "Myx_2ysqI2hb"
      }
    },
    {
      "cell_type": "code",
      "source": [
        "import numpy as np\n",
        "# Extrae los nombres de los artistas y sus conteos\n",
        "artistas = top_5_artists_series.index\n",
        "conteos = top_5_artists_series.values\n",
        "# Extrae los nombres de los artistas y sus conteos\n",
        "artistas = top_5_artists_series.index\n",
        "conteos = top_5_artists_series.values\n",
        "\n",
        "# Filtra el dataframe para incluir solo las canciones de estos artistas\n",
        "df_filtrado = df_2[df_2['artist'].isin(artistas)]\n",
        "\n",
        "# Calcula el promedio de danceability y el promedio de energy para cada artista\n",
        "datos_artistas = df_filtrado.groupby('artist').agg({'danceability': 'mean', 'energy': 'mean'})\n",
        "\n",
        "# Crea el gráfico de barras agrupadas\n",
        "fig, ax = plt.subplots(figsize=(12, 6))\n",
        "\n",
        "ancho_barra = 0.25\n",
        "posiciones = np.arange(len(artistas))\n",
        "\n",
        "ax.bar(posiciones - ancho_barra, conteos, width=ancho_barra, label='Cantidad de Canciones')\n",
        "ax.bar(posiciones, datos_artistas['danceability'], width=ancho_barra, label='Danceability Promedio')\n",
        "ax.bar(posiciones + ancho_barra, datos_artistas['energy'], width=ancho_barra, label='Energy Promedio')\n",
        "\n",
        "ax.set_xticks(posiciones)\n",
        "ax.set_xticklabels(artistas, rotation=90, ha='right')\n",
        "ax.set_xlabel('Artistas en el Top 5')\n",
        "ax.set_ylabel('Valores')\n",
        "ax.set_title('Top 5 Artistas más Repetidos: Canciones, Danceability y Energy')\n",
        "ax.legend()"
      ],
      "metadata": {
        "id": "8K8kndC2KGug"
      },
      "execution_count": null,
      "outputs": []
    },
    {
      "cell_type": "markdown",
      "source": [
        "se advierte que el gráfico de barras agrupadas no es el mejor para evidenciar la diferencia apuntada en la conclusion anterior, (respecto a los valores promedio de 'danceability' y 'energy' para cada artista) ya que la columna de cantidad de canciones impide ver la variacion entre los artistas respecto de las variables bajo analisis. dicho en otras palabras, el gráfico NO  evidencia la conclusión anteriormente desarrollada. Intentemos hacer uno nuevo SIN la columna Cantidad de Canciones:"
      ],
      "metadata": {
        "id": "eASHCelYxXQk"
      }
    },
    {
      "cell_type": "code",
      "source": [
        "import numpy as np\n",
        "# Extrae los nombres de los artistas y sus conteos\n",
        "artistas = top_5_artists_series.index\n",
        "conteos = top_5_artists_series.values\n",
        "# Extrae los nombres de los artistas y sus conteos\n",
        "artistas = top_5_artists_series.index\n",
        "conteos = top_5_artists_series.values\n",
        "\n",
        "# Filtra el dataframe para incluir solo las canciones de estos artistas\n",
        "df_filtrado = df_2[df_2['artist'].isin(artistas)]\n",
        "\n",
        "# Calcula el promedio de danceability y el promedio de energy para cada artista\n",
        "datos_artistas = df_filtrado.groupby('artist').agg({'danceability': 'mean', 'energy': 'mean'})\n",
        "\n",
        "# Crea el gráfico de barras agrupadas\n",
        "fig, ax = plt.subplots(figsize=(12, 6))\n",
        "\n",
        "ancho_barra = 0.25\n",
        "posiciones = np.arange(len(artistas))\n",
        "\n",
        "ax.bar(posiciones, datos_artistas['danceability'], width=ancho_barra, label='Danceability Promedio')\n",
        "ax.bar(posiciones + ancho_barra, datos_artistas['energy'], width=ancho_barra, label='Energy Promedio')\n",
        "\n",
        "ax.set_xticks(posiciones)\n",
        "ax.set_xticklabels(artistas, rotation=90, ha='right')\n",
        "ax.set_xlabel('Artistas en el Top 5')\n",
        "ax.set_ylabel('Valores')\n",
        "ax.set_title('Top 5 Artistas más Repetidos: analisis de ´Danceability' y 'Energy')\n",
        "ax.legend()"
      ],
      "metadata": {
        "id": "RiU_8evVx72p"
      },
      "execution_count": null,
      "outputs": []
    },
    {
      "cell_type": "markdown",
      "source": [
        "Con el gráfico anterior se vuelve a evidenciar que los valores Danceability y Energy'(para el Top 5 de Artistas más Repetidos) son elevados y se muestra de mejor modo la diferencia de valores entre cada uno de ellos.\n"
      ],
      "metadata": {
        "id": "_ibAYPFkyNfp"
      }
    },
    {
      "cell_type": "markdown",
      "source": [
        "# ¿Como influye la variable Duración ('duration_ms') en el data set respecto de la caracteristica 'danceability'?\n",
        "Ya hemos analizado cuáles son los artitas favoritos del autor del data set y que la característica distintiva de la base de datos y del artista favorito tiende a ser 'dancecability'.\n",
        "Indaguemos seguidamente si hay relación entre la variable 'danceability' y la duración de las canciones que posee el data set.\n",
        "Primero analizaremos usando el método describe de la columna 'duration_ms', teniendo en cuenta que la duración de las canciones del data set están expresadas en milisegundos."
      ],
      "metadata": {
        "id": "gd2nbPMhO8dD"
      }
    },
    {
      "cell_type": "code",
      "source": [
        "#repitamos el metodo describe\n",
        "df_2.describe().round()"
      ],
      "metadata": {
        "id": "froG3kWQ5yln"
      },
      "execution_count": null,
      "outputs": []
    },
    {
      "cell_type": "code",
      "source": [
        "#variable Duration_ms\n",
        "df_2['duration_ms'] = df_2['duration_ms'].round(2)  # redondear a 2 decimales\n",
        "descripcion_duracion = df_2['duration_ms'].describe(). round(2)\n",
        "print(descripcion_duracion)"
      ],
      "metadata": {
        "id": "E347qxX0z2NA"
      },
      "execution_count": null,
      "outputs": []
    },
    {
      "cell_type": "markdown",
      "source": [
        "El tiempo expresado en milisegundos debe ser convertido a minutos para poder ser comprendido:"
      ],
      "metadata": {
        "id": "ANE2LH5T9Cd3"
      }
    },
    {
      "cell_type": "code",
      "source": [
        "df_2['duration_min'] = df_2['duration_ms'] / (1000 * 60)  # Divide milisegundos (1000 * 60) para obtener minutos\n",
        "descripcion_duracion = df_2['duration_min'].describe(). round(2)\n",
        "print(descripcion_duracion)"
      ],
      "metadata": {
        "id": "f-5iYsYFrNLa"
      },
      "execution_count": null,
      "outputs": []
    },
    {
      "cell_type": "markdown",
      "source": [
        "Ahora vemos los datos más importantes del data set segun la duración en min:\n",
        "la cancion más corta (0,27 min)\n",
        "la cancion más extensa (16.74 min)\n",
        "la duración promedio (4.11 min).\n",
        "Vemos que la desviación estandar es de 1.37 minutos:\n",
        "significa que aproximadamente el 68% de las canciones en el data set tienen duraciones dentro de 1.37 minutos por encima o por debajo de la duración promedio.\n",
        "Alrededor del 95% de las canciones caen dentro de dos desviaciones estándar (2 * 1.37 = 2.74 minutos) de la media.\n",
        "Casi todas (99.7%) de las canciones están dentro de tres desviaciones estándar (3 * 1.37 = 4.11 minutos) de la duración promedio."
      ],
      "metadata": {
        "id": "c3RimF819QIC"
      }
    },
    {
      "cell_type": "code",
      "source": [
        "# Encontrar el indice de la fila con la menor duración en minutos\n",
        "index_min = df_2['duration_min'].idxmin()\n",
        "\n",
        "# Encontrar el indice de la fila con la mayor duración en minutos\n",
        "index_max = df_2['duration_min'].idxmax()\n",
        "\n",
        "# obtener ahora el titulo de la canción, la duración y el artista correspondiente a tales índices\n",
        "song_min = df_2.loc[index_min, 'song_title']\n",
        "duration_min = df_2.loc[index_min, 'duration_min']\n",
        "artist_min = df_2.loc[index_min, 'artist']\n",
        "\n",
        "song_max = df_2.loc[index_max, 'song_title']\n",
        "duration_max = df_2.loc[index_max, 'duration_min']\n",
        "artist_max = df_2.loc[index_max, 'artist']\n",
        "\n",
        "\n",
        "print(f\"La canción con la menor duracion es: '{song_min}', interpretada por el artista: '{artist_min}' con una duración de {round(duration_min,2)} minutos)\")\n",
        "\n",
        "print(f\"La canción con la mayor duracion es: '{song_max}', interpretada por el artista: '{artist_max}' con una duración de {round(duration_max,2)} minutos)\")"
      ],
      "metadata": {
        "id": "r8hk6Ad3AKPm"
      },
      "execution_count": null,
      "outputs": []
    },
    {
      "cell_type": "markdown",
      "source": [
        "Ya vimos cuál es la canción más extensa, la más corta, la duración promedio y algo acerca de la desviación estandar de la duración. Ahora podríamos representarlo en un histograma: ¿dónde se concentran la mayoría de las canciones de la base de datos dentro de 'duración'?(expresado ahora en Minutos y no en Milisegundos)"
      ],
      "metadata": {
        "id": "pbLzlc2yTgHF"
      }
    },
    {
      "cell_type": "code",
      "source": [
        "df_2['duration_min'] = df_2['duration_ms'] / (1000 * 60)\n",
        "import matplotlib.pyplot as plt\n",
        "\n",
        "plt.figure(figsize=(8, 6))\n",
        "plt.hist(df_2['duration_min'], bins=20)\n",
        "plt.xlabel('Duración en minutos')\n",
        "plt.ylabel('Frecuencia')\n",
        "plt.title('Histograma de duración de las canciones')\n",
        "# Calcula el mínimo y el máximo de la duración en minutos\n",
        "min_duracion = int(df_2['duration_min'].min())\n",
        "max_duracion = int(df_2['duration_min'].max()) + 1\n",
        "\n",
        "# Genera una lista de marcas desde el mínimo hasta el máximo\n",
        "marcas_x = list(range(min_duracion, max_duracion))\n",
        "\n",
        "# Aplica las marcas al eje x\n",
        "plt.xticks(marcas_x)\n",
        "\n",
        "plt.show()\n"
      ],
      "metadata": {
        "id": "VuNCnPreTYqb"
      },
      "execution_count": null,
      "outputs": []
    },
    {
      "cell_type": "markdown",
      "source": [
        "Promedio de duración de las canciones del data set:"
      ],
      "metadata": {
        "id": "uBPwsyN1-5qU"
      }
    },
    {
      "cell_type": "code",
      "source": [
        "promedio_duracion_minutos = df_2['duration_min'].mean()\n",
        "promedio_redondeado = round(promedio_duracion_minutos, 2)\n",
        "print('El promedio de las canciones del data set es de \\033[1m\\033[3;35m', promedio_redondeado, '\\033[0m minutos.')"
      ],
      "metadata": {
        "id": "951NTmMfWUJC"
      },
      "execution_count": null,
      "outputs": []
    },
    {
      "cell_type": "markdown",
      "source": [
        "Vemos que el resultado del cálculo promedio es consecuente con el gráfico de histograma. Ahora veamos lo mismo pero mediante un gráafico de Cajas"
      ],
      "metadata": {
        "id": "bdAcCDJCUapk"
      }
    },
    {
      "cell_type": "code",
      "source": [
        "import matplotlib.pyplot as plt\n",
        "\n",
        "# Calcular los límites del eje x\n",
        "min_valor = df_2['duration_min'].min()\n",
        "max_valor = df_2['duration_min'].max()\n",
        "\n",
        "plt.figure(figsize=(16, 2))\n",
        "plt.boxplot(df_2['duration_min'], vert=False, patch_artist=True)\n",
        "plt.xlabel('Duración en minutos')\n",
        "plt.title('Gráfico de cajas de duración de canciones')\n",
        "# Calcula el mínimo y el máximo de la duración en minutos\n",
        "min_duracion = int(df_2['duration_min'].min())\n",
        "max_duracion = int(df_2['duration_min'].max()) + 1\n",
        "\n",
        "# Genera una lista de marcas desde el mínimo hasta el máximo\n",
        "marcas_x = list(range(min_duracion, max_duracion))\n",
        "\n",
        "# Aplica las marcas al eje x\n",
        "plt.xticks(marcas_x)\n",
        "\n",
        "\n",
        "# Ajustar los límites del eje x\n",
        "plt.xlim(min_valor - 0.1, max_valor + 0.1)  # Ajusta los valores -0.5 y +0.5 según sea necesario\n",
        "\n",
        "plt.show()"
      ],
      "metadata": {
        "id": "lhuNW4n-VVQl"
      },
      "execution_count": null,
      "outputs": []
    },
    {
      "cell_type": "markdown",
      "source": [
        "\n",
        "Con este gráfico de cajas de la duración de las canciones, se puede  analizar varios aspectos de la distribución de los datos del data set:\n",
        "\n",
        "1. Mediana: La línea dentro de la caja representa la mediana, es decir, el valor que divide la distribución en dos mitades iguales. Demuestra dónde se encuentra la duración típica de las canciones en el dataset. (cercana a los 4 minutos)\n",
        "\n",
        "2. Cuartiles: Los bordes de la caja representan el primer y tercer cuartil (Q1 y Q3). Estos valores dividen la distribución en cuatro partes iguales. La distancia entre Q1 y Q3 (el rango intercuartil)  indica la dispersión de la mitad central de los datos.\n",
        "\n",
        "3. Rango: Las líneas que se extienden desde la caja (bigotes) muestran el rango de los datos, excluyendo posibles valores atípicos. Se puede observar la duración mínima y máxima de las canciones dentro de este rango.\n",
        "\n",
        "4. Valores atípicos: Los puntos individuales fuera de los bigotes representan posibles valores atípicos, es decir, canciones con duraciones inusualmente largas o cortas en comparación con el resto de la distribución.\n",
        "\n",
        "Veamos ahora cómo quedaria representado mediante el método de puntuación z el gráfico de cajas:"
      ],
      "metadata": {
        "id": "bFbrl6DsX8xs"
      }
    },
    {
      "cell_type": "markdown",
      "source": [
        "##Diagrama de caja de puntuaciones Z"
      ],
      "metadata": {
        "id": "Mi8Mtm1PPrYC"
      }
    },
    {
      "cell_type": "code",
      "source": [
        "from scipy import stats\n",
        "df_2['z_score_duration'] = stats.zscore(df_2['duration_min'])\n",
        "\n",
        "plt.figure(figsize=(16, 2))\n",
        "plt.boxplot(df_2['z_score_duration'], vert=False, patch_artist=True)\n",
        "plt.xlabel('Z-score de Duración')\n",
        "plt.title('Gráfico de cajas de duración de canciones (Z-scores)')\n",
        "plt.show()"
      ],
      "metadata": {
        "id": "uEUoOvpXOrrG"
      },
      "execution_count": null,
      "outputs": []
    },
    {
      "cell_type": "markdown",
      "source": [
        "Al calcular las puntuaciones z, se transforman los valores de 'duration_min' en una distribución normal estándar con una media de 0 y una desviación estándar de 1.\n",
        "\n",
        "Esto permite identificar valores atípicos en función de cuántas desviaciones estándar están lejos de la media.\n",
        "\n",
        "El diagrama de caja de puntuaciones z representa visualmente la distribución de estos valores estandarizados, lo que facilita la identificación de posibles valores atípicos. En este caso los que estan por debajo de -2 y los que se hallan mas alla de 4."
      ],
      "metadata": {
        "id": "KjUvuQZ0PyAJ"
      }
    },
    {
      "cell_type": "markdown",
      "source": [
        "#Combinación de variables analizadas hasta ahora.\n",
        "Ya analizamos en la primer parte las caracteristicas de las canciones y descubrimos la preponderancia de las características 'danceability' y 'energy'.\n",
        "\n",
        "Seguidamente analizamos acerca de la duración de las canciones.\n",
        "\n",
        "Ahora veamos cuál es la correlación entre tales variables entre sí representándolas mediante graficos de dispersión."
      ],
      "metadata": {
        "id": "3u01gCYMEiWy"
      }
    },
    {
      "cell_type": "markdown",
      "source": [
        "##Gráfico de dispersión: Duración y Danceability\n",
        "\n",
        "\n"
      ],
      "metadata": {
        "id": "JHyN6O0FQKSH"
      }
    },
    {
      "cell_type": "code",
      "source": [
        "import matplotlib.pyplot as plt\n",
        "\n",
        "plt.figure(figsize=(8, 6))\n",
        "plt.scatter(df_2['duration_min'], df_2['danceability'])\n",
        "plt.xlabel('Duración en minutos')\n",
        "plt.ylabel('Danceability')\n",
        "plt.title('Gráfico de dispersión: Duración y Danceability')\n",
        "# Calcula el mínimo y el máximo de la duración en minutos\n",
        "min_duracion = int(df_2['duration_min'].min())\n",
        "max_duracion = int(df_2['duration_min'].max()) + 1\n",
        "\n",
        "# Genera una lista de marcas desde el mínimo hasta el máximo\n",
        "marcas_x = list(range(min_duracion, max_duracion))\n",
        "\n",
        "# Aplica las marcas al eje x\n",
        "plt.xticks(marcas_x)\n",
        "\n",
        "plt.show()"
      ],
      "metadata": {
        "id": "nlr1No5KY1Vg"
      },
      "execution_count": null,
      "outputs": []
    },
    {
      "cell_type": "markdown",
      "source": [
        "Veamos ahora como quedaria representado en un gráfico de dispersión de puntos respecto de la variable 'Energy'"
      ],
      "metadata": {
        "id": "pqQU12iObE58"
      }
    },
    {
      "cell_type": "code",
      "source": [
        "import matplotlib.pyplot as plt\n",
        "\n",
        "plt.figure(figsize=(8, 6))\n",
        "plt.scatter(df_2['duration_min'], df_2['energy'], color='red')\n",
        "plt.xlabel('Duración en minutos')\n",
        "plt.ylabel('Energy')\n",
        "plt.title('Gráfico de dispersión: Duración y Energy')\n",
        "\n",
        "# Calcula el mínimo y el máximo de la duración en minutos\n",
        "min_duracion = int(df_2['duration_min'].min())\n",
        "max_duracion = int(df_2['duration_min'].max()) + 1\n",
        "\n",
        "# Genera una lista de marcas desde el mínimo hasta el máximo\n",
        "marcas_x = list(range(min_duracion, max_duracion))\n",
        "\n",
        "# Aplica las marcas al eje x\n",
        "plt.xticks(marcas_x)\n",
        "\n",
        "plt.show()"
      ],
      "metadata": {
        "id": "0dYzDtaAhemC"
      },
      "execution_count": null,
      "outputs": []
    },
    {
      "cell_type": "markdown",
      "source": [
        "Veamos las dos representaciones juntas usando subplots en Matplotlib. Lo que permitirá crear dos gráficos en una misma figura. Esto permite una comparación visual directa entre las dos relaciones."
      ],
      "metadata": {
        "id": "dcwL4i7mbfbc"
      }
    },
    {
      "cell_type": "code",
      "source": [
        "import matplotlib.pyplot as plt\n",
        "\n",
        "fig, (ax1, ax2) = plt.subplots(1, 2, figsize=(12, 6))  # Crea dos subplots en una fila\n",
        "\n",
        "# Gráfico 1: Duración vs. Danceability\n",
        "ax1.scatter(df_2['duration_min'], df_2['danceability'])\n",
        "ax1.set_xlabel('Duración en minutos')\n",
        "ax1.set_ylabel('Danceability')\n",
        "ax1.set_title('Duración y Danceability')\n",
        "\n",
        "\n",
        "# Aplica las marcas al eje x\n",
        "plt.xticks(marcas_x)\n",
        "# Gráfico 2: Duración vs. Energy\n",
        "ax2.scatter(df_2['duration_min'], df_2['energy'], color='red')\n",
        "ax2.set_xlabel('Duración en minutos')\n",
        "ax2.set_ylabel('Energy')\n",
        "ax2.set_title('Duración y Energy')\n",
        "\n",
        "plt.tight_layout()  # Ajusta el espaciado entre los subplots\n",
        "plt.show()"
      ],
      "metadata": {
        "id": "p-LPifVhbPKM"
      },
      "execution_count": null,
      "outputs": []
    },
    {
      "cell_type": "markdown",
      "source": [
        "Insights:\n",
        "\n",
        "\n",
        "*   Duración y Bailabilidad\n",
        "Se observa una concentración de canciones bailables (de 0.5 a 0.8) con una duracion aprox. de 4 min.\n",
        "\n",
        "*   Duración y Energía\n",
        "Se observa una concentración de canciones energicas (de 0.6 a 10) con una duracion aprox. de 4 min.\n"
      ],
      "metadata": {
        "id": "oDHgC0iZFwJ0"
      }
    },
    {
      "cell_type": "markdown",
      "source": [
        "Ahora veamos cuál es la influencia de la variable 'energy' en la variable 'danceability' dentro de un solo gráfico (donde la relación entre la duración y 'danceability' se representa mediante la posición de los puntos, y la variable 'energy' se mapea al color de los puntos).\n",
        "Esto permite visualizar la influencia de 'energy' en la relación entre duración y 'danceability' en un solo gráfico.\n",
        "Veamos:"
      ],
      "metadata": {
        "id": "Q_fGjNmuca_7"
      }
    },
    {
      "cell_type": "code",
      "source": [
        "import matplotlib.pyplot as plt\n",
        "\n",
        "plt.figure(figsize=(12, 10))\n",
        "plt.scatter(df_2['duration_min'], df_2['danceability'], c=df_2['energy'], cmap='viridis')\n",
        "plt.xlabel('Duración en minutos')\n",
        "plt.ylabel('Danceability')\n",
        "plt.title('Gráfico de dispersión: Duración y Danceability')\n",
        "plt.colorbar(label='Energy')  # Agrega una barra de colores para mostrar la escala de 'energy'\n",
        "# Calcula el mínimo y el máximo de la duración en minutos\n",
        "min_duracion = int(df_2['duration_min'].min())\n",
        "max_duracion = int(df_2['duration_min'].max()) + 1  # Suma 1 para incluir el máximo en el rango\n",
        "\n",
        "# Genera una lista de marcas desde el mínimo hasta el máximo\n",
        "marcas_x = list(range(min_duracion, max_duracion))\n",
        "\n",
        "# Aplica las marcas al eje x\n",
        "plt.xticks(marcas_x)\n",
        "\n",
        "plt.show()"
      ],
      "metadata": {
        "id": "LU4Qf9iPfjR2"
      },
      "execution_count": null,
      "outputs": []
    },
    {
      "cell_type": "markdown",
      "source": [
        "Aqui podemos observar que la mayoria de las canciones con altos niveles de danceability tienen una duracion semejante al promedio de las canciones del data set (3,75 / 4 Min.). Y que el valor 'energy' que más influye se encuentra entre 0,6 y 0,8."
      ],
      "metadata": {
        "id": "fzewYjkFdINI"
      }
    },
    {
      "cell_type": "markdown",
      "source": [
        "#EDA EXPLORATORY DATA ANALYSIS (ETA)\n",
        "1. Atributos distinguidos  (Artistas más mencionados, Top 5)\n",
        "2. Análisis Univariados (características de las canciones del artista más mencionado y de la variable tiempo)\n",
        "3. Analisis Bi/Multi Variados (relacion entre las variables tiempo con 'danceability' y 'energy')\n",
        "4. Detectar valores aberrantes y datos perdidos\n",
        "5. Detectar valores outliers\n",
        "6. Realizar Engineering"
      ],
      "metadata": {
        "id": "F71MhLVCJyZ0"
      }
    },
    {
      "cell_type": "markdown",
      "source": [
        "A fines de empezar a hacer un analisis exploratorio de la base de datos 'Atributos de las canciones de Spotify' debemos hacer una matriz de correlacion con los valores numericos seleccionando las siguientes columnas: 'acousticness', 'danceability', 'duration_ms', 'energy','instrumentalness', 'key', 'liveness', 'loudness','mode', 'speechiness', y 'valence'."
      ],
      "metadata": {
        "id": "9xY-1bG3PM2E"
      }
    },
    {
      "cell_type": "code",
      "source": [
        "# Seleccion de columnas deseadas traer al análisis\n",
        "df_selected = df_2[['acousticness', 'danceability', 'duration_ms', 'energy',\n",
        "                     'instrumentalness', 'key', 'liveness', 'loudness',\n",
        "                     'mode', 'speechiness', 'valence']]\n",
        "\n",
        "# Calcular la correlación\n",
        "correlation_matrix = df_selected.corr()\n",
        "\n",
        "# imprimir la correlación\n",
        "print(correlation_matrix)"
      ],
      "metadata": {
        "id": "ANCFTyV1OZMV",
        "outputId": "d53f322f-0083-4738-9065-df25a4c70aea",
        "colab": {
          "base_uri": "https://localhost:8080/"
        }
      },
      "execution_count": 16,
      "outputs": [
        {
          "output_type": "stream",
          "name": "stdout",
          "text": [
            "                  acousticness  danceability  duration_ms    energy  \\\n",
            "acousticness          1.000000     -0.179894     0.071536 -0.646319   \n",
            "danceability         -0.179894      1.000000     0.004695  0.038557   \n",
            "duration_ms           0.071536      0.004695     1.000000 -0.144473   \n",
            "energy               -0.646319      0.038557    -0.144473  1.000000   \n",
            "instrumentalness      0.144397     -0.130561     0.305403 -0.122890   \n",
            "key                  -0.081037      0.022325     0.023570  0.072886   \n",
            "liveness             -0.117126     -0.132044     0.023203  0.217435   \n",
            "loudness             -0.562021      0.104362    -0.273798  0.762177   \n",
            "mode                  0.068028     -0.047867    -0.074806 -0.070263   \n",
            "speechiness          -0.099893      0.142661    -0.079562  0.093102   \n",
            "valence              -0.152227      0.442061    -0.120030  0.278383   \n",
            "\n",
            "                  instrumentalness       key  liveness  loudness      mode  \\\n",
            "acousticness              0.144397 -0.081037 -0.117126 -0.562021  0.068028   \n",
            "danceability             -0.130561  0.022325 -0.132044  0.104362 -0.047867   \n",
            "duration_ms               0.305403  0.023570  0.023203 -0.273798 -0.074806   \n",
            "energy                   -0.122890  0.072886  0.217435  0.762177 -0.070263   \n",
            "instrumentalness          1.000000 -0.009640  0.001063 -0.354625 -0.030099   \n",
            "key                      -0.009640  1.000000  0.049739  0.050929 -0.195040   \n",
            "liveness                  0.001063  0.049739  1.000000  0.156648 -0.018587   \n",
            "loudness                 -0.354625  0.050929  0.156648  1.000000 -0.044015   \n",
            "mode                     -0.030099 -0.195040 -0.018587 -0.044015  1.000000   \n",
            "speechiness              -0.155349  0.019116  0.092403  0.088844 -0.049398   \n",
            "valence                  -0.194630  0.032485 -0.053011  0.204968 -0.032879   \n",
            "\n",
            "                  speechiness   valence  \n",
            "acousticness        -0.099893 -0.152227  \n",
            "danceability         0.142661  0.442061  \n",
            "duration_ms         -0.079562 -0.120030  \n",
            "energy               0.093102  0.278383  \n",
            "instrumentalness    -0.155349 -0.194630  \n",
            "key                  0.019116  0.032485  \n",
            "liveness             0.092403 -0.053011  \n",
            "loudness             0.088844  0.204968  \n",
            "mode                -0.049398 -0.032879  \n",
            "speechiness          1.000000  0.054419  \n",
            "valence              0.054419  1.000000  \n"
          ]
        }
      ]
    },
    {
      "cell_type": "markdown",
      "source": [
        "y ahora es conveniente ver esta matriz de correlacion en un heatmap:"
      ],
      "metadata": {
        "id": "p14Y8Oj8QKYH"
      }
    },
    {
      "cell_type": "code",
      "source": [
        "import seaborn as sns\n",
        "import matplotlib.pyplot as plt\n",
        "\n",
        "# Increase the size of the heatmap.\n",
        "plt.figure(figsize=(12, 10))\n",
        "\n",
        "# Create the heatmap\n",
        "sns.heatmap(correlation_matrix, annot=True, cmap='coolwarm')\n",
        "\n",
        "# Rotate x-axis labels for better readability\n",
        "plt.xticks(rotation=90, ha='right')\n",
        "\n",
        "# Display the plot\n",
        "plt.show()"
      ],
      "metadata": {
        "id": "bZg3_qw4OtME",
        "outputId": "eb10c59a-852c-4d78-d599-39a52e35f475",
        "colab": {
          "base_uri": "https://localhost:8080/",
          "height": 933
        }
      },
      "execution_count": 17,
      "outputs": [
        {
          "output_type": "display_data",
          "data": {
            "text/plain": [
              "<Figure size 1200x1000 with 2 Axes>"
            ],
            "image/png": "[encoded data removed]"
          },
          "metadata": {}
        }
      ]
    },
    {
      "cell_type": "markdown",
      "source": [],
      "metadata": {
        "id": "PrO8gkKlQvVe"
      }
    },
    {
      "cell_type": "markdown",
      "source": [
        "#Preguntas de interés que surgen del mapa de calor:\n",
        "\n",
        "Mediante este heatmap podemos considerar lo siguiente teniendo en cuenta una correlacion positiva y otra negativa:\n",
        "\n",
        "\n",
        "---\n",
        "\n",
        "\n",
        "1. **Hipótesis sobre la correlación positiva entre loudness y energy:**\n",
        "\n",
        "\n",
        "# Hipótesis:\n",
        "\n",
        "\n",
        "\n",
        "> # ***“A medida que aumenta la sonoridad (loudness) de una canción, también aumenta su energía (energy).”***\n",
        "\n",
        "\n",
        "Justificación:\n",
        "\n",
        "Esta hipótesis se basa en la idea de que canciones más fuertes y sonoras (con mayor loudness) tienden a ser más energéticas, lo cual podría reflejarse en una mayor actividad instrumental y vocal.\n",
        "\n",
        "\n",
        "---\n",
        "\n",
        "\n",
        "\n",
        "2. **Hipótesis sobre la correlación negativa entre energy y acousticness:**\n",
        "\n",
        "#Hipótesis:\n",
        "\n",
        "\n",
        "\n",
        "> # ***“A medida que aumenta la energia (energy) de una canción, disminuye su acústica (acousticness).”***\n",
        "\n",
        "\n",
        "\n",
        "\n",
        "Justificación:\n",
        "\n",
        "Esta hipótesis sugiere que canciones más energéticas tienden a utilizar más instrumentos electrónicos y menos acústicos, lo que reduce la acustica (acousticness)."
      ],
      "metadata": {
        "id": "Z1lYljjtVa9j"
      }
    },
    {
      "cell_type": "markdown",
      "source": [
        "# Modelado\n",
        "\n",
        "utilizaré 2 técnicas de machine learning en el modelado de mis hipótesis:\n",
        "\n",
        "\n",
        "\n",
        "1.   Regresión Lineal\n",
        "2.   Modelos de Árboles de Decisión\n",
        "\n"
      ],
      "metadata": {
        "id": "ZxggKzceEFDD"
      }
    },
    {
      "cell_type": "markdown",
      "source": [
        "# **Regresión Lineal**\n",
        "\n",
        "* Pasos:\n",
        "\n",
        "1. Preparación de Datos:\n",
        "los mismos ya se encuentran limpios y normalizados. Ya vimos mas arriba que no\n",
        "habia datos nulos-\n",
        "\n",
        "2. Division de los datos en conjuntos de entrenamiento y prueba.\n",
        "\n",
        "3. Entrenamiento del Modelo:\n",
        "Usando la librería scikit-learn en Python."
      ],
      "metadata": {
        "id": "M2NvCf__GKfo"
      }
    },
    {
      "cell_type": "markdown",
      "source": [
        "#Entrenamiento del modelo"
      ],
      "metadata": {
        "id": "4JaS_8ndHLSj"
      }
    },
    {
      "cell_type": "code",
      "source": [
        "from sklearn.model_selection import train_test_split\n",
        "from sklearn.linear_model import LinearRegression\n",
        "\n",
        "# Dividir los datos\n",
        "X = df_2[['loudness', 'acousticness']]\n",
        "y = df_2['energy']\n",
        "X_train, X_test, y_train, y_test = train_test_split(X, y, test_size=0.2, random_state=42)\n",
        "\n",
        "# Entrenar el modelo\n",
        "model = LinearRegression()\n",
        "model.fit(X_train, y_train)\n",
        "\n"
      ],
      "metadata": {
        "id": "6uDGnJkCEZki",
        "outputId": "a3f5f64d-643c-4e8a-e7fa-432500f0cb49",
        "colab": {
          "base_uri": "https://localhost:8080/",
          "height": 75
        }
      },
      "execution_count": 27,
      "outputs": [
        {
          "output_type": "execute_result",
          "data": {
            "text/plain": [
              "LinearRegression()"
            ],
            "text/html": [
              "<style>#sk-container-id-4 {color: black;}#sk-container-id-4 pre{padding: 0;}#sk-container-id-4 div.sk-toggleable {background-color: white;}#sk-container-id-4 label.sk-toggleable__label {cursor: pointer;display: block;width: 100%;margin-bottom: 0;padding: 0.3em;box-sizing: border-box;text-align: center;}#sk-container-id-4 label.sk-toggleable__label-arrow:before {content: \"▸\";float: left;margin-right: 0.25em;color: #696969;}#sk-container-id-4 label.sk-toggleable__label-arrow:hover:before {color: black;}#sk-container-id-4 div.sk-estimator:hover label.sk-toggleable__label-arrow:before {color: black;}#sk-container-id-4 div.sk-toggleable__content {max-height: 0;max-width: 0;overflow: hidden;text-align: left;background-color: #f0f8ff;}#sk-container-id-4 div.sk-toggleable__content pre {margin: 0.2em;color: black;border-radius: 0.25em;background-color: #f0f8ff;}#sk-container-id-4 input.sk-toggleable__control:checked~div.sk-toggleable__content {max-height: 200px;max-width: 100%;overflow: auto;}#sk-container-id-4 input.sk-toggleable__control:checked~label.sk-toggleable__label-arrow:before {content: \"▾\";}#sk-container-id-4 div.sk-estimator input.sk-toggleable__control:checked~label.sk-toggleable__label {background-color: #d4ebff;}#sk-container-id-4 div.sk-label input.sk-toggleable__control:checked~label.sk-toggleable__label {background-color: #d4ebff;}#sk-container-id-4 input.sk-hidden--visually {border: 0;clip: rect(1px 1px 1px 1px);clip: rect(1px, 1px, 1px, 1px);height: 1px;margin: -1px;overflow: hidden;padding: 0;position: absolute;width: 1px;}#sk-container-id-4 div.sk-estimator {font-family: monospace;background-color: #f0f8ff;border: 1px dotted black;border-radius: 0.25em;box-sizing: border-box;margin-bottom: 0.5em;}#sk-container-id-4 div.sk-estimator:hover {background-color: #d4ebff;}#sk-container-id-4 div.sk-parallel-item::after {content: \"\";width: 100%;border-bottom: 1px solid gray;flex-grow: 1;}#sk-container-id-4 div.sk-label:hover label.sk-toggleable__label {background-color: #d4ebff;}#sk-container-id-4 div.sk-serial::before {content: \"\";position: absolute;border-left: 1px solid gray;box-sizing: border-box;top: 0;bottom: 0;left: 50%;z-index: 0;}#sk-container-id-4 div.sk-serial {display: flex;flex-direction: column;align-items: center;background-color: white;padding-right: 0.2em;padding-left: 0.2em;position: relative;}#sk-container-id-4 div.sk-item {position: relative;z-index: 1;}#sk-container-id-4 div.sk-parallel {display: flex;align-items: stretch;justify-content: center;background-color: white;position: relative;}#sk-container-id-4 div.sk-item::before, #sk-container-id-4 div.sk-parallel-item::before {content: \"\";position: absolute;border-left: 1px solid gray;box-sizing: border-box;top: 0;bottom: 0;left: 50%;z-index: -1;}#sk-container-id-4 div.sk-parallel-item {display: flex;flex-direction: column;z-index: 1;position: relative;background-color: white;}#sk-container-id-4 div.sk-parallel-item:first-child::after {align-self: flex-end;width: 50%;}#sk-container-id-4 div.sk-parallel-item:last-child::after {align-self: flex-start;width: 50%;}#sk-container-id-4 div.sk-parallel-item:only-child::after {width: 0;}#sk-container-id-4 div.sk-dashed-wrapped {border: 1px dashed gray;margin: 0 0.4em 0.5em 0.4em;box-sizing: border-box;padding-bottom: 0.4em;background-color: white;}#sk-container-id-4 div.sk-label label {font-family: monospace;font-weight: bold;display: inline-block;line-height: 1.2em;}#sk-container-id-4 div.sk-label-container {text-align: center;}#sk-container-id-4 div.sk-container {/* jupyter's `normalize.less` sets `[hidden] { display: none; }` but bootstrap.min.css set `[hidden] { display: none !important; }` so we also need the `!important` here to be able to override the default hidden behavior on the sphinx rendered scikit-learn.org. See: https://github.com/scikit-learn/scikit-learn/issues/21755 */display: inline-block !important;position: relative;}#sk-container-id-4 div.sk-text-repr-fallback {display: none;}</style><div id=\"sk-container-id-4\" class=\"sk-top-container\"><div class=\"sk-text-repr-fallback\"><pre>LinearRegression()</pre><b>In a Jupyter environment, please rerun this cell to show the HTML representation or trust the notebook. <br />On GitHub, the HTML representation is unable to render, please try loading this page with nbviewer.org.</b></div><div class=\"sk-container\" hidden><div class=\"sk-item\"><div class=\"sk-estimator sk-toggleable\"><input class=\"sk-toggleable__control sk-hidden--visually\" id=\"sk-estimator-id-4\" type=\"checkbox\" checked><label for=\"sk-estimator-id-4\" class=\"sk-toggleable__label sk-toggleable__label-arrow\">LinearRegression</label><div class=\"sk-toggleable__content\"><pre>LinearRegression()</pre></div></div></div></div></div>"
            ]
          },
          "metadata": {},
          "execution_count": 27
        }
      ]
    },
    {
      "cell_type": "markdown",
      "source": [
        "#Evaluación del modelo de regresión lineal\n",
        "\n",
        "\n"
      ],
      "metadata": {
        "id": "eFiDJyqcHQv6"
      }
    },
    {
      "cell_type": "code",
      "source": [
        "from sklearn.metrics import mean_squared_error, r2_score\n",
        "\n",
        "y_pred = model.predict(X_test)\n",
        "print(f'R²: {r2_score(y_test, y_pred)}')\n",
        "print(f'MSE: {mean_squared_error(y_test, y_pred)}')\n"
      ],
      "metadata": {
        "id": "zzBk6pIKHXrC",
        "outputId": "197178b3-6dcf-4c31-efd4-ae9bd0f9f5bd",
        "colab": {
          "base_uri": "https://localhost:8080/"
        }
      },
      "execution_count": 23,
      "outputs": [
        {
          "output_type": "stream",
          "name": "stdout",
          "text": [
            "R²: 0.672808218952013\n",
            "MSE: 0.015173512398408034\n"
          ]
        }
      ]
    },
    {
      "cell_type": "markdown",
      "source": [
        "Los resultados (R² = 0.67 y MSE = 0.015) sugieren que el modelo tiene un ajuste de moderado a bueno, lo que explica una cantidad decente de varianza en los datos y tiene un error de predicción relativamente bajo."
      ],
      "metadata": {
        "id": "0zEca6S7M8iA"
      }
    },
    {
      "cell_type": "markdown",
      "source": [
        "#**Modelos de Árboles de Decisión**\n",
        "* Pasos:\n",
        "\n",
        "1. Preparación de Datos:\n",
        "los mismos ya se encuentran limpios y normalizados. Ya vimos mas arriba que no\n",
        "habia datos nulos-\n",
        "\n",
        "2. Division de los datos en conjuntos de entrenamiento y prueba.\n",
        "\n",
        "3. Entrenamiento del Modelo:\n",
        "Usando la librería scikit-learn para implementar arboles de decision."
      ],
      "metadata": {
        "id": "njnu0rfDHidB"
      }
    },
    {
      "cell_type": "code",
      "source": [
        "from sklearn.tree import DecisionTreeRegressor\n",
        "\n",
        "# Entrenar el modelo\n",
        "tree_model = DecisionTreeRegressor(random_state=42)\n",
        "tree_model.fit(X_train, y_train)\n"
      ],
      "metadata": {
        "id": "bjI3QkQEHz0V",
        "outputId": "68db7859-5a28-4b36-99cb-722844440d08",
        "colab": {
          "base_uri": "https://localhost:8080/",
          "height": 75
        }
      },
      "execution_count": 25,
      "outputs": [
        {
          "output_type": "execute_result",
          "data": {
            "text/plain": [
              "DecisionTreeRegressor(random_state=42)"
            ],
            "text/html": [
              "<style>#sk-container-id-3 {color: black;}#sk-container-id-3 pre{padding: 0;}#sk-container-id-3 div.sk-toggleable {background-color: white;}#sk-container-id-3 label.sk-toggleable__label {cursor: pointer;display: block;width: 100%;margin-bottom: 0;padding: 0.3em;box-sizing: border-box;text-align: center;}#sk-container-id-3 label.sk-toggleable__label-arrow:before {content: \"▸\";float: left;margin-right: 0.25em;color: #696969;}#sk-container-id-3 label.sk-toggleable__label-arrow:hover:before {color: black;}#sk-container-id-3 div.sk-estimator:hover label.sk-toggleable__label-arrow:before {color: black;}#sk-container-id-3 div.sk-toggleable__content {max-height: 0;max-width: 0;overflow: hidden;text-align: left;background-color: #f0f8ff;}#sk-container-id-3 div.sk-toggleable__content pre {margin: 0.2em;color: black;border-radius: 0.25em;background-color: #f0f8ff;}#sk-container-id-3 input.sk-toggleable__control:checked~div.sk-toggleable__content {max-height: 200px;max-width: 100%;overflow: auto;}#sk-container-id-3 input.sk-toggleable__control:checked~label.sk-toggleable__label-arrow:before {content: \"▾\";}#sk-container-id-3 div.sk-estimator input.sk-toggleable__control:checked~label.sk-toggleable__label {background-color: #d4ebff;}#sk-container-id-3 div.sk-label input.sk-toggleable__control:checked~label.sk-toggleable__label {background-color: #d4ebff;}#sk-container-id-3 input.sk-hidden--visually {border: 0;clip: rect(1px 1px 1px 1px);clip: rect(1px, 1px, 1px, 1px);height: 1px;margin: -1px;overflow: hidden;padding: 0;position: absolute;width: 1px;}#sk-container-id-3 div.sk-estimator {font-family: monospace;background-color: #f0f8ff;border: 1px dotted black;border-radius: 0.25em;box-sizing: border-box;margin-bottom: 0.5em;}#sk-container-id-3 div.sk-estimator:hover {background-color: #d4ebff;}#sk-container-id-3 div.sk-parallel-item::after {content: \"\";width: 100%;border-bottom: 1px solid gray;flex-grow: 1;}#sk-container-id-3 div.sk-label:hover label.sk-toggleable__label {background-color: #d4ebff;}#sk-container-id-3 div.sk-serial::before {content: \"\";position: absolute;border-left: 1px solid gray;box-sizing: border-box;top: 0;bottom: 0;left: 50%;z-index: 0;}#sk-container-id-3 div.sk-serial {display: flex;flex-direction: column;align-items: center;background-color: white;padding-right: 0.2em;padding-left: 0.2em;position: relative;}#sk-container-id-3 div.sk-item {position: relative;z-index: 1;}#sk-container-id-3 div.sk-parallel {display: flex;align-items: stretch;justify-content: center;background-color: white;position: relative;}#sk-container-id-3 div.sk-item::before, #sk-container-id-3 div.sk-parallel-item::before {content: \"\";position: absolute;border-left: 1px solid gray;box-sizing: border-box;top: 0;bottom: 0;left: 50%;z-index: -1;}#sk-container-id-3 div.sk-parallel-item {display: flex;flex-direction: column;z-index: 1;position: relative;background-color: white;}#sk-container-id-3 div.sk-parallel-item:first-child::after {align-self: flex-end;width: 50%;}#sk-container-id-3 div.sk-parallel-item:last-child::after {align-self: flex-start;width: 50%;}#sk-container-id-3 div.sk-parallel-item:only-child::after {width: 0;}#sk-container-id-3 div.sk-dashed-wrapped {border: 1px dashed gray;margin: 0 0.4em 0.5em 0.4em;box-sizing: border-box;padding-bottom: 0.4em;background-color: white;}#sk-container-id-3 div.sk-label label {font-family: monospace;font-weight: bold;display: inline-block;line-height: 1.2em;}#sk-container-id-3 div.sk-label-container {text-align: center;}#sk-container-id-3 div.sk-container {/* jupyter's `normalize.less` sets `[hidden] { display: none; }` but bootstrap.min.css set `[hidden] { display: none !important; }` so we also need the `!important` here to be able to override the default hidden behavior on the sphinx rendered scikit-learn.org. See: https://github.com/scikit-learn/scikit-learn/issues/21755 */display: inline-block !important;position: relative;}#sk-container-id-3 div.sk-text-repr-fallback {display: none;}</style><div id=\"sk-container-id-3\" class=\"sk-top-container\"><div class=\"sk-text-repr-fallback\"><pre>DecisionTreeRegressor(random_state=42)</pre><b>In a Jupyter environment, please rerun this cell to show the HTML representation or trust the notebook. <br />On GitHub, the HTML representation is unable to render, please try loading this page with nbviewer.org.</b></div><div class=\"sk-container\" hidden><div class=\"sk-item\"><div class=\"sk-estimator sk-toggleable\"><input class=\"sk-toggleable__control sk-hidden--visually\" id=\"sk-estimator-id-3\" type=\"checkbox\" checked><label for=\"sk-estimator-id-3\" class=\"sk-toggleable__label sk-toggleable__label-arrow\">DecisionTreeRegressor</label><div class=\"sk-toggleable__content\"><pre>DecisionTreeRegressor(random_state=42)</pre></div></div></div></div></div>"
            ]
          },
          "metadata": {},
          "execution_count": 25
        }
      ]
    },
    {
      "cell_type": "markdown",
      "source": [
        "#Evaluación del modelo de Arboles de Decisión:"
      ],
      "metadata": {
        "id": "VJJoQjV2H_Q8"
      }
    },
    {
      "cell_type": "code",
      "source": [
        "y_tree_pred = tree_model.predict(X_test)\n",
        "print(f'R²: {r2_score(y_test, y_tree_pred)}')\n",
        "print(f'MSE: {mean_squared_error(y_test, y_tree_pred)}')\n"
      ],
      "metadata": {
        "id": "f-8brhAxH4oz",
        "outputId": "871b121b-501a-4723-bc15-68ac9f36da6b",
        "colab": {
          "base_uri": "https://localhost:8080/"
        }
      },
      "execution_count": 26,
      "outputs": [
        {
          "output_type": "stream",
          "name": "stdout",
          "text": [
            "R²: 0.3312913856699162\n",
            "MSE: 0.03101134881188119\n"
          ]
        }
      ]
    },
    {
      "cell_type": "markdown",
      "source": [
        "Se observa que el modelo de arboles de decsion tiene un valor R2 mas bajo y un MSE más alto que el modelo de regresion lineal. lo que indica que éste ultimo es la mejor herramienta para predecir."
      ],
      "metadata": {
        "id": "gM-GyPbQN49J"
      }
    }
  ]
}