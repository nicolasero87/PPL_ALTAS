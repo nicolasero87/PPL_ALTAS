{
  "nbformat": 4,
  "nbformat_minor": 0,
  "metadata": {
    "colab": {
      "provenance": [],
      "authorship_tag": "ABX9TyNRxNY2YZ2Q3XD48Pl2/XSZ",
      "include_colab_link": true
    },
    "kernelspec": {
      "name": "python3",
      "display_name": "Python 3"
    },
    "language_info": {
      "name": "python"
    }
  },
  "cells": [
    {
      "cell_type": "markdown",
      "metadata": {
        "id": "view-in-github",
        "colab_type": "text"
      },
      "source": [
        "<a href=\"https://colab.research.google.com/github/nicolasero87/PPL_ALTAS/blob/main/PPL_ALTAS_Nicolas_Roman_15_08_24_16_HS.ipynb\" target=\"_parent\"><img src=\"https://colab.research.google.com/assets/colab-badge.svg\" alt=\"Open In Colab\"/></a>"
      ]
    },
    {
      "cell_type": "code",
      "execution_count": null,
      "metadata": {
        "colab": {
          "base_uri": "https://localhost:8080/"
        },
        "id": "VL6Nal5sM1sb",
        "outputId": "56afce83-d379-4a69-98bf-8fef0fb2cf22"
      },
      "outputs": [
        {
          "output_type": "stream",
          "name": "stdout",
          "text": [
            "Cloning into 'PPL_ALTAS'...\n",
            "remote: Enumerating objects: 6, done.\u001b[K\n",
            "remote: Counting objects: 100% (6/6), done.\u001b[K\n",
            "remote: Compressing objects: 100% (4/4), done.\u001b[K\n",
            "remote: Total 6 (delta 0), reused 0 (delta 0), pack-reused 0 (from 0)\u001b[K\n",
            "Receiving objects: 100% (6/6), 357.62 KiB | 1.48 MiB/s, done.\n"
          ]
        }
      ],
      "source": [
        "! git clone https://github.com/nicolasero87/PPL_ALTAS.git"
      ]
    },
    {
      "cell_type": "code",
      "source": [
        "import pandas as pd\n",
        "df = pd.read_excel('/content/PPL_ALTAS/DB_Altas_PPL_Entrega 19-08.xlsx')"
      ],
      "metadata": {
        "id": "0kBXepAeNT-R"
      },
      "execution_count": null,
      "outputs": []
    },
    {
      "cell_type": "code",
      "source": [
        "df.head()"
      ],
      "metadata": {
        "colab": {
          "base_uri": "https://localhost:8080/",
          "height": 397
        },
        "id": "ctxA11asNgER",
        "outputId": "22164907-7463-4da4-ada1-be341f725498"
      },
      "execution_count": null,
      "outputs": [
        {
          "output_type": "execute_result",
          "data": {
            "text/plain": [
              "   ID   fecha308 Sexo nacionalidad                         bienjuridico  \\\n",
              "0   1 2019-01-02    M    Argentina          Delitos contra las personas   \n",
              "1   2 2019-01-02    M    Argentina          Delitos contra la propiedad   \n",
              "2   3 2019-01-02    M    Argentina          Delitos contra las personas   \n",
              "3   4 2019-01-02    M    Argentina  Delitos contra la seguridad pública   \n",
              "4   5 2019-01-02    M    Argentina          Delitos contra las personas   \n",
              "\n",
              "                                clasifcg       depto DeptoOrganismoFinal  \\\n",
              "0               Lesiones leves agravadas  Avellaneda     Lomas De Zamora   \n",
              "1             Robo agravado  uso de arma  Avellaneda          Avellaneda   \n",
              "2                         Lesiones leves  Avellaneda          Avellaneda   \n",
              "3  Portación y Tenencia de arma de fuego  Avellaneda          Avellaneda   \n",
              "4                         Lesiones leves  Avellaneda          Avellaneda   \n",
              "\n",
              "                   OrganismoFinal         DeptoUFI  \\\n",
              "0    JE-Juzgado de Ejecucion Nº 2  Lomas De Zamora   \n",
              "1  JG-Juz. Gar. N° 1 - Avellaneda       Avellaneda   \n",
              "2  JG-Juz. Gar. N° 1 - Avellaneda       Avellaneda   \n",
              "3       JG-Juz. Gar. N° 3 - Lanus       Avellaneda   \n",
              "4  JG-Juz. Gar. N° 1 - Avellaneda       Avellaneda   \n",
              "\n",
              "                                                 UFI         DeptoUFD  \\\n",
              "0        Unidad de Asist. Juicio Común y por Jurados  Lomas De Zamora   \n",
              "1                            AVELLANEDA - UFIyJ Nº 1       Avellaneda   \n",
              "2  AVELLANEDA - UFIyJ Nº 2 (Int. Sexual, del. Inf...       Avellaneda   \n",
              "3                                 UFIyJ N° 6 – Lanús       Avellaneda   \n",
              "4  AVELLANEDA - UFIyJ Nº 2 (Int. Sexual, del. Inf...       Avellaneda   \n",
              "\n",
              "                                       UFD    DepPolicial Flagrancia revifag  \\\n",
              "0       DEFENSORIA DE EJECUCION PENAL N° 4      Lanus 10º        NaN      NO   \n",
              "1  Unidad de Defensa Penal N° 4 AVELLANEDA  Avellaneda 4º        NaN      NO   \n",
              "2  Unidad de Defensa Penal N° 4 AVELLANEDA  Avellaneda 7º        NaN      NO   \n",
              "3       Unidad de Defensa Penal N° 8 LANÚS       Lanus 2º        NaN      NO   \n",
              "4  Unidad de Defensa Penal N° 4 AVELLANEDA  Avellaneda 4º        NaN      NO   \n",
              "\n",
              "                                       DelitoMaxPena  \n",
              "0           Lesiones agravadas artículo 89 - Art.92   \n",
              "1  Robo agravado (uso de armas de fuego) - Art.16...  \n",
              "2                          Lesiones leves - Art.89    \n",
              "3  Portacion ilegal de arma de guerra - Art.189 b...  \n",
              "4                          Lesiones leves - Art.89    "
            ],
            "text/html": [
              "\n",
              "  <div id=\"df-e5228353-ccd2-4048-843d-852f0785c0af\" class=\"colab-df-container\">\n",
              "    <div>\n",
              "<style scoped>\n",
              "    .dataframe tbody tr th:only-of-type {\n",
              "        vertical-align: middle;\n",
              "    }\n",
              "\n",
              "    .dataframe tbody tr th {\n",
              "        vertical-align: top;\n",
              "    }\n",
              "\n",
              "    .dataframe thead th {\n",
              "        text-align: right;\n",
              "    }\n",
              "</style>\n",
              "<table border=\"1\" class=\"dataframe\">\n",
              "  <thead>\n",
              "    <tr style=\"text-align: right;\">\n",
              "      <th></th>\n",
              "      <th>ID</th>\n",
              "      <th>fecha308</th>\n",
              "      <th>Sexo</th>\n",
              "      <th>nacionalidad</th>\n",
              "      <th>bienjuridico</th>\n",
              "      <th>clasifcg</th>\n",
              "      <th>depto</th>\n",
              "      <th>DeptoOrganismoFinal</th>\n",
              "      <th>OrganismoFinal</th>\n",
              "      <th>DeptoUFI</th>\n",
              "      <th>UFI</th>\n",
              "      <th>DeptoUFD</th>\n",
              "      <th>UFD</th>\n",
              "      <th>DepPolicial</th>\n",
              "      <th>Flagrancia</th>\n",
              "      <th>revifag</th>\n",
              "      <th>DelitoMaxPena</th>\n",
              "    </tr>\n",
              "  </thead>\n",
              "  <tbody>\n",
              "    <tr>\n",
              "      <th>0</th>\n",
              "      <td>1</td>\n",
              "      <td>2019-01-02</td>\n",
              "      <td>M</td>\n",
              "      <td>Argentina</td>\n",
              "      <td>Delitos contra las personas</td>\n",
              "      <td>Lesiones leves agravadas</td>\n",
              "      <td>Avellaneda</td>\n",
              "      <td>Lomas De Zamora</td>\n",
              "      <td>JE-Juzgado de Ejecucion Nº 2</td>\n",
              "      <td>Lomas De Zamora</td>\n",
              "      <td>Unidad de Asist. Juicio Común y por Jurados</td>\n",
              "      <td>Lomas De Zamora</td>\n",
              "      <td>DEFENSORIA DE EJECUCION PENAL N° 4</td>\n",
              "      <td>Lanus 10º</td>\n",
              "      <td>NaN</td>\n",
              "      <td>NO</td>\n",
              "      <td>Lesiones agravadas artículo 89 - Art.92</td>\n",
              "    </tr>\n",
              "    <tr>\n",
              "      <th>1</th>\n",
              "      <td>2</td>\n",
              "      <td>2019-01-02</td>\n",
              "      <td>M</td>\n",
              "      <td>Argentina</td>\n",
              "      <td>Delitos contra la propiedad</td>\n",
              "      <td>Robo agravado  uso de arma</td>\n",
              "      <td>Avellaneda</td>\n",
              "      <td>Avellaneda</td>\n",
              "      <td>JG-Juz. Gar. N° 1 - Avellaneda</td>\n",
              "      <td>Avellaneda</td>\n",
              "      <td>AVELLANEDA - UFIyJ Nº 1</td>\n",
              "      <td>Avellaneda</td>\n",
              "      <td>Unidad de Defensa Penal N° 4 AVELLANEDA</td>\n",
              "      <td>Avellaneda 4º</td>\n",
              "      <td>NaN</td>\n",
              "      <td>NO</td>\n",
              "      <td>Robo agravado (uso de armas de fuego) - Art.16...</td>\n",
              "    </tr>\n",
              "    <tr>\n",
              "      <th>2</th>\n",
              "      <td>3</td>\n",
              "      <td>2019-01-02</td>\n",
              "      <td>M</td>\n",
              "      <td>Argentina</td>\n",
              "      <td>Delitos contra las personas</td>\n",
              "      <td>Lesiones leves</td>\n",
              "      <td>Avellaneda</td>\n",
              "      <td>Avellaneda</td>\n",
              "      <td>JG-Juz. Gar. N° 1 - Avellaneda</td>\n",
              "      <td>Avellaneda</td>\n",
              "      <td>AVELLANEDA - UFIyJ Nº 2 (Int. Sexual, del. Inf...</td>\n",
              "      <td>Avellaneda</td>\n",
              "      <td>Unidad de Defensa Penal N° 4 AVELLANEDA</td>\n",
              "      <td>Avellaneda 7º</td>\n",
              "      <td>NaN</td>\n",
              "      <td>NO</td>\n",
              "      <td>Lesiones leves - Art.89</td>\n",
              "    </tr>\n",
              "    <tr>\n",
              "      <th>3</th>\n",
              "      <td>4</td>\n",
              "      <td>2019-01-02</td>\n",
              "      <td>M</td>\n",
              "      <td>Argentina</td>\n",
              "      <td>Delitos contra la seguridad pública</td>\n",
              "      <td>Portación y Tenencia de arma de fuego</td>\n",
              "      <td>Avellaneda</td>\n",
              "      <td>Avellaneda</td>\n",
              "      <td>JG-Juz. Gar. N° 3 - Lanus</td>\n",
              "      <td>Avellaneda</td>\n",
              "      <td>UFIyJ N° 6 – Lanús</td>\n",
              "      <td>Avellaneda</td>\n",
              "      <td>Unidad de Defensa Penal N° 8 LANÚS</td>\n",
              "      <td>Lanus 2º</td>\n",
              "      <td>NaN</td>\n",
              "      <td>NO</td>\n",
              "      <td>Portacion ilegal de arma de guerra - Art.189 b...</td>\n",
              "    </tr>\n",
              "    <tr>\n",
              "      <th>4</th>\n",
              "      <td>5</td>\n",
              "      <td>2019-01-02</td>\n",
              "      <td>M</td>\n",
              "      <td>Argentina</td>\n",
              "      <td>Delitos contra las personas</td>\n",
              "      <td>Lesiones leves</td>\n",
              "      <td>Avellaneda</td>\n",
              "      <td>Avellaneda</td>\n",
              "      <td>JG-Juz. Gar. N° 1 - Avellaneda</td>\n",
              "      <td>Avellaneda</td>\n",
              "      <td>AVELLANEDA - UFIyJ Nº 2 (Int. Sexual, del. Inf...</td>\n",
              "      <td>Avellaneda</td>\n",
              "      <td>Unidad de Defensa Penal N° 4 AVELLANEDA</td>\n",
              "      <td>Avellaneda 4º</td>\n",
              "      <td>NaN</td>\n",
              "      <td>NO</td>\n",
              "      <td>Lesiones leves - Art.89</td>\n",
              "    </tr>\n",
              "  </tbody>\n",
              "</table>\n",
              "</div>\n",
              "    <div class=\"colab-df-buttons\">\n",
              "\n",
              "  <div class=\"colab-df-container\">\n",
              "    <button class=\"colab-df-convert\" onclick=\"convertToInteractive('df-e5228353-ccd2-4048-843d-852f0785c0af')\"\n",
              "            title=\"Convert this dataframe to an interactive table.\"\n",
              "            style=\"display:none;\">\n",
              "\n",
              "  <svg xmlns=\"http://www.w3.org/2000/svg\" height=\"24px\" viewBox=\"0 -960 960 960\">\n",
              "    <path d=\"M120-120v-720h720v720H120Zm60-500h600v-160H180v160Zm220 220h160v-160H400v160Zm0 220h160v-160H400v160ZM180-400h160v-160H180v160Zm440 0h160v-160H620v160ZM180-180h160v-160H180v160Zm440 0h160v-160H620v160Z\"/>\n",
              "  </svg>\n",
              "    </button>\n",
              "\n",
              "  <style>\n",
              "    .colab-df-container {\n",
              "      display:flex;\n",
              "      gap: 12px;\n",
              "    }\n",
              "\n",
              "    .colab-df-convert {\n",
              "      background-color: #E8F0FE;\n",
              "      border: none;\n",
              "      border-radius: 50%;\n",
              "      cursor: pointer;\n",
              "      display: none;\n",
              "      fill: #1967D2;\n",
              "      height: 32px;\n",
              "      padding: 0 0 0 0;\n",
              "      width: 32px;\n",
              "    }\n",
              "\n",
              "    .colab-df-convert:hover {\n",
              "      background-color: #E2EBFA;\n",
              "      box-shadow: 0px 1px 2px rgba(60, 64, 67, 0.3), 0px 1px 3px 1px rgba(60, 64, 67, 0.15);\n",
              "      fill: #174EA6;\n",
              "    }\n",
              "\n",
              "    .colab-df-buttons div {\n",
              "      margin-bottom: 4px;\n",
              "    }\n",
              "\n",
              "    [theme=dark] .colab-df-convert {\n",
              "      background-color: #3B4455;\n",
              "      fill: #D2E3FC;\n",
              "    }\n",
              "\n",
              "    [theme=dark] .colab-df-convert:hover {\n",
              "      background-color: #434B5C;\n",
              "      box-shadow: 0px 1px 3px 1px rgba(0, 0, 0, 0.15);\n",
              "      filter: drop-shadow(0px 1px 2px rgba(0, 0, 0, 0.3));\n",
              "      fill: #FFFFFF;\n",
              "    }\n",
              "  </style>\n",
              "\n",
              "    <script>\n",
              "      const buttonEl =\n",
              "        document.querySelector('#df-e5228353-ccd2-4048-843d-852f0785c0af button.colab-df-convert');\n",
              "      buttonEl.style.display =\n",
              "        google.colab.kernel.accessAllowed ? 'block' : 'none';\n",
              "\n",
              "      async function convertToInteractive(key) {\n",
              "        const element = document.querySelector('#df-e5228353-ccd2-4048-843d-852f0785c0af');\n",
              "        const dataTable =\n",
              "          await google.colab.kernel.invokeFunction('convertToInteractive',\n",
              "                                                    [key], {});\n",
              "        if (!dataTable) return;\n",
              "\n",
              "        const docLinkHtml = 'Like what you see? Visit the ' +\n",
              "          '<a target=\"_blank\" href=https://colab.research.google.com/notebooks/data_table.ipynb>data table notebook</a>'\n",
              "          + ' to learn more about interactive tables.';\n",
              "        element.innerHTML = '';\n",
              "        dataTable['output_type'] = 'display_data';\n",
              "        await google.colab.output.renderOutput(dataTable, element);\n",
              "        const docLink = document.createElement('div');\n",
              "        docLink.innerHTML = docLinkHtml;\n",
              "        element.appendChild(docLink);\n",
              "      }\n",
              "    </script>\n",
              "  </div>\n",
              "\n",
              "\n",
              "<div id=\"df-68bdd48e-355e-4b2c-8eae-260cec8edadd\">\n",
              "  <button class=\"colab-df-quickchart\" onclick=\"quickchart('df-68bdd48e-355e-4b2c-8eae-260cec8edadd')\"\n",
              "            title=\"Suggest charts\"\n",
              "            style=\"display:none;\">\n",
              "\n",
              "<svg xmlns=\"http://www.w3.org/2000/svg\" height=\"24px\"viewBox=\"0 0 24 24\"\n",
              "     width=\"24px\">\n",
              "    <g>\n",
              "        <path d=\"M19 3H5c-1.1 0-2 .9-2 2v14c0 1.1.9 2 2 2h14c1.1 0 2-.9 2-2V5c0-1.1-.9-2-2-2zM9 17H7v-7h2v7zm4 0h-2V7h2v10zm4 0h-2v-4h2v4z\"/>\n",
              "    </g>\n",
              "</svg>\n",
              "  </button>\n",
              "\n",
              "<style>\n",
              "  .colab-df-quickchart {\n",
              "      --bg-color: #E8F0FE;\n",
              "      --fill-color: #1967D2;\n",
              "      --hover-bg-color: #E2EBFA;\n",
              "      --hover-fill-color: #174EA6;\n",
              "      --disabled-fill-color: #AAA;\n",
              "      --disabled-bg-color: #DDD;\n",
              "  }\n",
              "\n",
              "  [theme=dark] .colab-df-quickchart {\n",
              "      --bg-color: #3B4455;\n",
              "      --fill-color: #D2E3FC;\n",
              "      --hover-bg-color: #434B5C;\n",
              "      --hover-fill-color: #FFFFFF;\n",
              "      --disabled-bg-color: #3B4455;\n",
              "      --disabled-fill-color: #666;\n",
              "  }\n",
              "\n",
              "  .colab-df-quickchart {\n",
              "    background-color: var(--bg-color);\n",
              "    border: none;\n",
              "    border-radius: 50%;\n",
              "    cursor: pointer;\n",
              "    display: none;\n",
              "    fill: var(--fill-color);\n",
              "    height: 32px;\n",
              "    padding: 0;\n",
              "    width: 32px;\n",
              "  }\n",
              "\n",
              "  .colab-df-quickchart:hover {\n",
              "    background-color: var(--hover-bg-color);\n",
              "    box-shadow: 0 1px 2px rgba(60, 64, 67, 0.3), 0 1px 3px 1px rgba(60, 64, 67, 0.15);\n",
              "    fill: var(--button-hover-fill-color);\n",
              "  }\n",
              "\n",
              "  .colab-df-quickchart-complete:disabled,\n",
              "  .colab-df-quickchart-complete:disabled:hover {\n",
              "    background-color: var(--disabled-bg-color);\n",
              "    fill: var(--disabled-fill-color);\n",
              "    box-shadow: none;\n",
              "  }\n",
              "\n",
              "  .colab-df-spinner {\n",
              "    border: 2px solid var(--fill-color);\n",
              "    border-color: transparent;\n",
              "    border-bottom-color: var(--fill-color);\n",
              "    animation:\n",
              "      spin 1s steps(1) infinite;\n",
              "  }\n",
              "\n",
              "  @keyframes spin {\n",
              "    0% {\n",
              "      border-color: transparent;\n",
              "      border-bottom-color: var(--fill-color);\n",
              "      border-left-color: var(--fill-color);\n",
              "    }\n",
              "    20% {\n",
              "      border-color: transparent;\n",
              "      border-left-color: var(--fill-color);\n",
              "      border-top-color: var(--fill-color);\n",
              "    }\n",
              "    30% {\n",
              "      border-color: transparent;\n",
              "      border-left-color: var(--fill-color);\n",
              "      border-top-color: var(--fill-color);\n",
              "      border-right-color: var(--fill-color);\n",
              "    }\n",
              "    40% {\n",
              "      border-color: transparent;\n",
              "      border-right-color: var(--fill-color);\n",
              "      border-top-color: var(--fill-color);\n",
              "    }\n",
              "    60% {\n",
              "      border-color: transparent;\n",
              "      border-right-color: var(--fill-color);\n",
              "    }\n",
              "    80% {\n",
              "      border-color: transparent;\n",
              "      border-right-color: var(--fill-color);\n",
              "      border-bottom-color: var(--fill-color);\n",
              "    }\n",
              "    90% {\n",
              "      border-color: transparent;\n",
              "      border-bottom-color: var(--fill-color);\n",
              "    }\n",
              "  }\n",
              "</style>\n",
              "\n",
              "  <script>\n",
              "    async function quickchart(key) {\n",
              "      const quickchartButtonEl =\n",
              "        document.querySelector('#' + key + ' button');\n",
              "      quickchartButtonEl.disabled = true;  // To prevent multiple clicks.\n",
              "      quickchartButtonEl.classList.add('colab-df-spinner');\n",
              "      try {\n",
              "        const charts = await google.colab.kernel.invokeFunction(\n",
              "            'suggestCharts', [key], {});\n",
              "      } catch (error) {\n",
              "        console.error('Error during call to suggestCharts:', error);\n",
              "      }\n",
              "      quickchartButtonEl.classList.remove('colab-df-spinner');\n",
              "      quickchartButtonEl.classList.add('colab-df-quickchart-complete');\n",
              "    }\n",
              "    (() => {\n",
              "      let quickchartButtonEl =\n",
              "        document.querySelector('#df-68bdd48e-355e-4b2c-8eae-260cec8edadd button');\n",
              "      quickchartButtonEl.style.display =\n",
              "        google.colab.kernel.accessAllowed ? 'block' : 'none';\n",
              "    })();\n",
              "  </script>\n",
              "</div>\n",
              "\n",
              "    </div>\n",
              "  </div>\n"
            ],
            "application/vnd.google.colaboratory.intrinsic+json": {
              "type": "dataframe",
              "variable_name": "df",
              "summary": "{\n  \"name\": \"df\",\n  \"rows\": 2039,\n  \"fields\": [\n    {\n      \"column\": \"ID\",\n      \"properties\": {\n        \"dtype\": \"number\",\n        \"std\": 588,\n        \"min\": 1,\n        \"max\": 2039,\n        \"num_unique_values\": 2039,\n        \"samples\": [\n          1316,\n          998,\n          1068\n        ],\n        \"semantic_type\": \"\",\n        \"description\": \"\"\n      }\n    },\n    {\n      \"column\": \"fecha308\",\n      \"properties\": {\n        \"dtype\": \"date\",\n        \"min\": \"2016-01-02 00:00:00\",\n        \"max\": \"2024-08-08 00:00:00\",\n        \"num_unique_values\": 532,\n        \"samples\": [\n          \"2024-01-02 00:00:00\",\n          \"2020-07-04 00:00:00\",\n          \"2017-08-02 00:00:00\"\n        ],\n        \"semantic_type\": \"\",\n        \"description\": \"\"\n      }\n    },\n    {\n      \"column\": \"Sexo\",\n      \"properties\": {\n        \"dtype\": \"category\",\n        \"num_unique_values\": 3,\n        \"samples\": [\n          \"M\",\n          \"F\",\n          \"X\"\n        ],\n        \"semantic_type\": \"\",\n        \"description\": \"\"\n      }\n    },\n    {\n      \"column\": \"nacionalidad\",\n      \"properties\": {\n        \"dtype\": \"category\",\n        \"num_unique_values\": 15,\n        \"samples\": [\n          \"Otros (Africa)\",\n          \"Venezuela\",\n          \"Argentina\"\n        ],\n        \"semantic_type\": \"\",\n        \"description\": \"\"\n      }\n    },\n    {\n      \"column\": \"bienjuridico\",\n      \"properties\": {\n        \"dtype\": \"category\",\n        \"num_unique_values\": 10,\n        \"samples\": [\n          \"Otros\",\n          \"Delitos contra la propiedad\",\n          \"Delitos contra la integridad sexual\"\n        ],\n        \"semantic_type\": \"\",\n        \"description\": \"\"\n      }\n    },\n    {\n      \"column\": \"clasifcg\",\n      \"properties\": {\n        \"dtype\": \"category\",\n        \"num_unique_values\": 35,\n        \"samples\": [\n          \"Secuestro extorsivo\",\n          \"Homicidio\",\n          \"Otros hurtos agravados\"\n        ],\n        \"semantic_type\": \"\",\n        \"description\": \"\"\n      }\n    },\n    {\n      \"column\": \"depto\",\n      \"properties\": {\n        \"dtype\": \"category\",\n        \"num_unique_values\": 1,\n        \"samples\": [\n          \"Avellaneda\"\n        ],\n        \"semantic_type\": \"\",\n        \"description\": \"\"\n      }\n    },\n    {\n      \"column\": \"DeptoOrganismoFinal\",\n      \"properties\": {\n        \"dtype\": \"category\",\n        \"num_unique_values\": 2,\n        \"samples\": [\n          \"Avellaneda\"\n        ],\n        \"semantic_type\": \"\",\n        \"description\": \"\"\n      }\n    },\n    {\n      \"column\": \"OrganismoFinal\",\n      \"properties\": {\n        \"dtype\": \"category\",\n        \"num_unique_values\": 42,\n        \"samples\": [\n          \"TOC-TOC N\\u00ba 1\"\n        ],\n        \"semantic_type\": \"\",\n        \"description\": \"\"\n      }\n    },\n    {\n      \"column\": \"DeptoUFI\",\n      \"properties\": {\n        \"dtype\": \"category\",\n        \"num_unique_values\": 2,\n        \"samples\": [\n          \"Avellaneda\"\n        ],\n        \"semantic_type\": \"\",\n        \"description\": \"\"\n      }\n    },\n    {\n      \"column\": \"UFI\",\n      \"properties\": {\n        \"dtype\": \"category\",\n        \"num_unique_values\": 26,\n        \"samples\": [\n          \"AVELLANEDA - UFIyJ N\\u00ba 5 Flagrancia\"\n        ],\n        \"semantic_type\": \"\",\n        \"description\": \"\"\n      }\n    },\n    {\n      \"column\": \"DeptoUFD\",\n      \"properties\": {\n        \"dtype\": \"category\",\n        \"num_unique_values\": 2,\n        \"samples\": [\n          \"Avellaneda\"\n        ],\n        \"semantic_type\": \"\",\n        \"description\": \"\"\n      }\n    },\n    {\n      \"column\": \"UFD\",\n      \"properties\": {\n        \"dtype\": \"category\",\n        \"num_unique_values\": 47,\n        \"samples\": [\n          \"NO USAR - UFD N\\u00ba 23\"\n        ],\n        \"semantic_type\": \"\",\n        \"description\": \"\"\n      }\n    },\n    {\n      \"column\": \"DepPolicial\",\n      \"properties\": {\n        \"dtype\": \"category\",\n        \"num_unique_values\": 33,\n        \"samples\": [\n          \"Almirante Brown 10\\u00ba\"\n        ],\n        \"semantic_type\": \"\",\n        \"description\": \"\"\n      }\n    },\n    {\n      \"column\": \"Flagrancia\",\n      \"properties\": {\n        \"dtype\": \"category\",\n        \"num_unique_values\": 1,\n        \"samples\": [\n          \"Proceso Especial de Flagrancia\"\n        ],\n        \"semantic_type\": \"\",\n        \"description\": \"\"\n      }\n    },\n    {\n      \"column\": \"revifag\",\n      \"properties\": {\n        \"dtype\": \"category\",\n        \"num_unique_values\": 2,\n        \"samples\": [\n          \"SI\"\n        ],\n        \"semantic_type\": \"\",\n        \"description\": \"\"\n      }\n    },\n    {\n      \"column\": \"DelitoMaxPena\",\n      \"properties\": {\n        \"dtype\": \"category\",\n        \"num_unique_values\": 122,\n        \"samples\": [\n          \"Robo Agravado (mercader\\u00eda en tr\\u00e1nsito) - en relaci\\u00f3n al art. 163 inc. 5 - - Art.167  Inc.4\\u00ba\"\n        ],\n        \"semantic_type\": \"\",\n        \"description\": \"\"\n      }\n    }\n  ]\n}"
            }
          },
          "metadata": {},
          "execution_count": 12
        }
      ]
    },
    {
      "cell_type": "code",
      "source": [
        "df.shape"
      ],
      "metadata": {
        "colab": {
          "base_uri": "https://localhost:8080/"
        },
        "id": "QCH3OTXABvvG",
        "outputId": "72ae3d35-63c9-4273-df33-152e306bb9df"
      },
      "execution_count": null,
      "outputs": [
        {
          "output_type": "execute_result",
          "data": {
            "text/plain": [
              "(2009, 25)"
            ]
          },
          "metadata": {},
          "execution_count": 4
        }
      ]
    },
    {
      "cell_type": "code",
      "source": [
        "df.depto.unique()"
      ],
      "metadata": {
        "colab": {
          "base_uri": "https://localhost:8080/"
        },
        "id": "bP3eUV3_NAWM",
        "outputId": "dc2b2389-49b1-4dfa-9896-5bd3c10cdfc5"
      },
      "execution_count": null,
      "outputs": [
        {
          "output_type": "execute_result",
          "data": {
            "text/plain": [
              "array(['Avellaneda', 'Azul', 'Bahia Blanca', 'Dolores', 'Junin',\n",
              "       'La Matanza', 'La Plata', 'Lomas De Zamora', 'Mar Del Plata',\n",
              "       'Mercedes', 'Moreno-Gral. Rodriguez'], dtype=object)"
            ]
          },
          "metadata": {},
          "execution_count": 5
        }
      ]
    },
    {
      "cell_type": "code",
      "source": [
        "# Importar las bibliotecas necesarias\n",
        "import pandas as pd\n",
        "from sklearn.preprocessing import OneHotEncoder\n",
        "\n",
        "# Identificar las columnas categóricas\n",
        "columnas_categoricas = df.select_dtypes(include=['object']).columns.tolist()\n",
        "\n",
        "# Mostrar las columnas categóricas\n",
        "#print(\"Columnas categóricas:\", columnas_categoricas)\n",
        "\n",
        "# Seleccionar las columnas categóricas que deseas codificar\n",
        "columnas_categoricas = [ 'Sexo', 'bienjuridico', 'clasifcg', 'depto']\n",
        "# Crear el codificador OneHotEncoder\n",
        "encoder = OneHotEncoder(sparse=False)\n",
        "\n",
        "# Ajustar y transformar los datos\n",
        "one_hot_encoded = encoder.fit_transform(df[columnas_categoricas])\n",
        "\n",
        "# Crear un DataFrame con los datos codificados\n",
        "df_one_hot = pd.DataFrame(one_hot_encoded, columns=encoder.get_feature_names_out(columnas_categoricas))\n",
        "\n",
        "# Concatenar el DataFrame original con el DataFrame codificado\n",
        "df_final = pd.concat([df, df_one_hot], axis=1).drop(columns=columnas_categoricas)\n",
        "\n",
        "# Mostrar las primeras filas del DataFrame final\n",
        "print(df_final.head())"
      ],
      "metadata": {
        "id": "V283Z7JMBvs5",
        "colab": {
          "base_uri": "https://localhost:8080/"
        },
        "outputId": "432d6115-e982-49a9-edff-e18a78a156ae"
      },
      "execution_count": null,
      "outputs": [
        {
          "output_type": "stream",
          "name": "stdout",
          "text": [
            "   id Unico    fecha308  ID_sexo  ID_bienjuridico  ID_clasifcg  ID_depto  \\\n",
            "0         1  03-04-2024        1              1.0          1.0         1   \n",
            "1         2  03-04-2024        1              2.0          2.0         1   \n",
            "2         3  03-04-2024        1              3.0          3.0         1   \n",
            "3         4  03-04-2024        1              1.0          4.0         1   \n",
            "4         5  03-04-2024        2              4.0          5.0         1   \n",
            "\n",
            "   ID_Depto Organismo Final Depto Organismo Final  \\\n",
            "0                       1.0            Avellaneda   \n",
            "1                       1.0            Avellaneda   \n",
            "2                       1.0            Avellaneda   \n",
            "3                       1.0            Avellaneda   \n",
            "4                       1.0            Avellaneda   \n",
            "\n",
            "                      Organismo Final        Depto UFI  ... depto_Azul  \\\n",
            "0  JE-Juzgado de Ejecucion Penal Nº 1       Avellaneda  ...        0.0   \n",
            "1      JG-Juz. Gar. N° 1 - Avellaneda       Avellaneda  ...        0.0   \n",
            "2      JG-Juz. Gar. N° 1 - Avellaneda  Lomas De Zamora  ...        0.0   \n",
            "3      JG-Juz. Gar. N° 1 - Avellaneda       Avellaneda  ...        0.0   \n",
            "4      JG-Juz. Gar. N° 1 - Avellaneda       Avellaneda  ...        0.0   \n",
            "\n",
            "  depto_Bahia Blanca depto_Dolores  depto_Junin depto_La Matanza  \\\n",
            "0                0.0           0.0          0.0              0.0   \n",
            "1                0.0           0.0          0.0              0.0   \n",
            "2                0.0           0.0          0.0              0.0   \n",
            "3                0.0           0.0          0.0              0.0   \n",
            "4                0.0           0.0          0.0              0.0   \n",
            "\n",
            "   depto_La Plata depto_Lomas De Zamora  depto_Mar Del Plata depto_Mercedes  \\\n",
            "0             0.0                   0.0                  0.0            0.0   \n",
            "1             0.0                   0.0                  0.0            0.0   \n",
            "2             0.0                   0.0                  0.0            0.0   \n",
            "3             0.0                   0.0                  0.0            0.0   \n",
            "4             0.0                   0.0                  0.0            0.0   \n",
            "\n",
            "   depto_Moreno-Gral. Rodriguez  \n",
            "0                           0.0  \n",
            "1                           0.0  \n",
            "2                           0.0  \n",
            "3                           0.0  \n",
            "4                           0.0  \n",
            "\n",
            "[5 rows x 82 columns]\n"
          ]
        },
        {
          "output_type": "stream",
          "name": "stderr",
          "text": [
            "/usr/local/lib/python3.10/dist-packages/sklearn/preprocessing/_encoders.py:975: FutureWarning: `sparse` was renamed to `sparse_output` in version 1.2 and will be removed in 1.4. `sparse_output` is ignored unless you leave `sparse` to its default value.\n",
            "  warnings.warn(\n"
          ]
        }
      ]
    },
    {
      "cell_type": "code",
      "source": [
        "# Importar las bibliotecas necesarias\n",
        "import pandas as pd\n",
        "from sklearn.preprocessing import OneHotEncoder\n",
        "\n",
        "# Identificar las columnas categóricas\n",
        "columnas_categoricas = df.select_dtypes(include=['object']).columns.tolist()\n",
        "\n",
        "# Mostrar las columnas categóricas\n",
        "#print(\"Columnas categóricas:\", columnas_categoricas)\n",
        "\n",
        "# Seleccionar las columnas categóricas que deseas codificar\n",
        "#columnas_categoricas = [ 'Sexo', 'bienjuridico', 'clasifcg', 'depto']\n",
        "\n",
        "umbral_cardinalidad = 10\n",
        "\n",
        "# Filtrar columnas con alta cardinalidad\n",
        "columnas_baja_cardinalidad = [col for col in columnas_categoricas if df[col].nunique() <= umbral_cardinalidad]\n",
        "\n",
        "# Agrupar categorías raras en columnas con alta cardinalidad\n",
        "for col in columnas_categoricas:\n",
        "    if df[col].nunique() > umbral_cardinalidad:\n",
        "        frecuencias = df[col].value_counts(normalize=True)\n",
        "        categorias_raras = frecuencias[frecuencias < 0.05].index  # Agrupar categorías que representan menos del 5%\n",
        "        df[col] = df[col].apply(lambda x: 'Otros' if x in categorias_raras else x)\n",
        "\n",
        "# Crear el codificador OneHotEncoder\n",
        "encoder = OneHotEncoder(sparse=False)\n",
        "\n",
        "# Ajustar y transformar los datos\n",
        "one_hot_encoded = encoder.fit_transform(df[columnas_baja_cardinalidad])\n",
        "\n",
        "# Crear un DataFrame con los datos codificados\n",
        "df_one_hot = pd.DataFrame(one_hot_encoded, columns=encoder.get_feature_names_out(columnas_baja_cardinalidad))\n",
        "\n",
        "# Concatenar el DataFrame original con el DataFrame codificado\n",
        "df_final = pd.concat([df, df_one_hot], axis=1).drop(columns=columnas_baja_cardinalidad)\n",
        "\n",
        "# Mostrar las primeras filas del DataFrame final\n",
        "print(df_final.head())"
      ],
      "metadata": {
        "colab": {
          "base_uri": "https://localhost:8080/"
        },
        "id": "23HwOBbJUrrc",
        "outputId": "18ba2787-e5a0-417b-f720-8771f04de009"
      },
      "execution_count": null,
      "outputs": [
        {
          "output_type": "stream",
          "name": "stdout",
          "text": [
            "   ID  Color_Azul  Color_Rojo  Color_Verde\n",
            "0   1         0.0         1.0          0.0\n",
            "1   2         0.0         0.0          1.0\n",
            "2   3         1.0         0.0          0.0\n",
            "3   4         0.0         1.0          0.0\n"
          ]
        },
        {
          "output_type": "stream",
          "name": "stderr",
          "text": [
            "/usr/local/lib/python3.10/dist-packages/sklearn/preprocessing/_encoders.py:975: FutureWarning: `sparse` was renamed to `sparse_output` in version 1.2 and will be removed in 1.4. `sparse_output` is ignored unless you leave `sparse` to its default value.\n",
            "  warnings.warn(\n"
          ]
        }
      ]
    },
    {
      "cell_type": "code",
      "source": [
        "##ahora que tengo los datos codificados hare algunos analisis adicionales:\n",
        "\n",
        "print(df_final[['Color_Azul', 'Color_Rojo', 'Color_Verde']].sum())\n"
      ],
      "metadata": {
        "colab": {
          "base_uri": "https://localhost:8080/"
        },
        "id": "pCQ6JG_YWc_2",
        "outputId": "6f96e9d8-ece3-4ff7-ebf6-2825902d8c21"
      },
      "execution_count": null,
      "outputs": [
        {
          "output_type": "stream",
          "name": "stdout",
          "text": [
            "Color_Azul     1.0\n",
            "Color_Rojo     2.0\n",
            "Color_Verde    1.0\n",
            "dtype: float64\n"
          ]
        }
      ]
    },
    {
      "cell_type": "code",
      "source": [
        "##analisis de correlacion para  ver si hay alguna correlación entre los colores y otras variables en el DataFrame.\n",
        "print(df_final.corr())\n"
      ],
      "metadata": {
        "colab": {
          "base_uri": "https://localhost:8080/"
        },
        "id": "KS18p-q8WqOO",
        "outputId": "0c221665-193a-4d44-8705-5c9a101805e0"
      },
      "execution_count": null,
      "outputs": [
        {
          "output_type": "stream",
          "name": "stdout",
          "text": [
            "                   ID  Color_Azul  Color_Rojo  Color_Verde\n",
            "ID           1.000000    0.258199     0.00000    -0.258199\n",
            "Color_Azul   0.258199    1.000000    -0.57735    -0.333333\n",
            "Color_Rojo   0.000000   -0.577350     1.00000    -0.577350\n",
            "Color_Verde -0.258199   -0.333333    -0.57735     1.000000\n"
          ]
        }
      ]
    },
    {
      "cell_type": "code",
      "source": [
        "##Visualizacion de los datos:"
      ],
      "metadata": {
        "id": "aUd70kesWz2W"
      },
      "execution_count": null,
      "outputs": []
    },
    {
      "cell_type": "markdown",
      "source": [],
      "metadata": {
        "id": "lRxnqluyXekO"
      }
    },
    {
      "cell_type": "code",
      "source": [
        "import matplotlib.pyplot as plt\n",
        "df_final[['Color_Azul', 'Color_Rojo', 'Color_Verde']].sum().plot(kind='bar')\n",
        "plt.show()"
      ],
      "metadata": {
        "colab": {
          "base_uri": "https://localhost:8080/",
          "height": 499
        },
        "id": "2J4JpGJMW33F",
        "outputId": "80c74463-3cd4-41c1-83b4-6215d9e0d4f0"
      },
      "execution_count": null,
      "outputs": [
        {
          "output_type": "display_data",
          "data": {
            "text/plain": [
              "<Figure size 640x480 with 1 Axes>"
            ],
            "image/png": "[encoded data removed]"
          },
          "metadata": {}
        }
      ]
    },
    {
      "cell_type": "markdown",
      "source": [
        "##no entiedo como hacer un grafico con estos colores azul rojo y verde???\n",
        "\n"
      ],
      "metadata": {
        "id": "z2QISuCSXfxu"
      }
    },
    {
      "cell_type": "code",
      "source": [
        "##no entiedo como hacer un grafico con estos colores azul rojo y verde???\n",
        "#color azul\n",
        "##from sklearn.model_selection import train_test_split\n",
        "from sklearn.ensemble import RandomForestClassifier\n",
        "\n",
        "# Supongamos que 'target' es la columna que deseas predecir\n",
        "X = df_final[['Color_Azul', 'Color_Rojo', 'Color_Verde']]\n",
        "y = df_final['Color_Azul']\n",
        "\n",
        "X_train, X_test, y_train, y_test = train_test_split(X, y, test_size=0.2, random_state=42)\n",
        "model = RandomForestClassifier()\n",
        "model.fit(X_train, y_train)\n",
        "print('EL RESULTADO DE ESTA COMBINACION ES ',model.score(X_test, y_test))"
      ],
      "metadata": {
        "colab": {
          "base_uri": "https://localhost:8080/"
        },
        "id": "Eva4U-UHXAPm",
        "outputId": "1afa23e3-db25-47d7-d249-5b52868f48d7"
      },
      "execution_count": null,
      "outputs": [
        {
          "output_type": "stream",
          "name": "stdout",
          "text": [
            "EL RESULTADO DE ESTA COMBINACION ES  1.0\n"
          ]
        }
      ]
    },
    {
      "cell_type": "code",
      "source": [
        "##Color Rojo\n",
        "##from sklearn.model_selection import train_test_split\n",
        "from sklearn.ensemble import RandomForestClassifier\n",
        "\n",
        "# Supongamos que 'target' es la columna que deseas predecir\n",
        "X = df_final[['Color_Azul', 'Color_Rojo', 'Color_Verde']]\n",
        "y = df_final['Color_Rojo']\n",
        "\n",
        "X_train, X_test, y_train, y_test = train_test_split(X, y, test_size=0.2, random_state=42)\n",
        "model = RandomForestClassifier()\n",
        "model.fit(X_train, y_train)\n",
        "print('EL RESULTADO DE ESTA COMBINACION ES ',model.score(X_test, y_test))"
      ],
      "metadata": {
        "colab": {
          "base_uri": "https://localhost:8080/"
        },
        "id": "KhflCpn7a5qR",
        "outputId": "491f42ce-70a9-48e9-8e00-5b07ac93e249"
      },
      "execution_count": null,
      "outputs": [
        {
          "output_type": "stream",
          "name": "stdout",
          "text": [
            "EL RESULTADO DE ESTA COMBINACION ES  0.0\n"
          ]
        }
      ]
    },
    {
      "cell_type": "code",
      "source": [
        "##Color Verde\n",
        "\n",
        "##from sklearn.model_selection import train_test_split\n",
        "from sklearn.ensemble import RandomForestClassifier\n",
        "\n",
        "# Supongamos que 'target' es la columna que deseas predecir\n",
        "X = df_final[['Color_Azul', 'Color_Rojo', 'Color_Verde']]\n",
        "y = df_final['Color_Verde']\n",
        "\n",
        "X_train, X_test, y_train, y_test = train_test_split(X, y, test_size=0.2, random_state=42)\n",
        "model = RandomForestClassifier()\n",
        "model.fit(X_train, y_train)\n",
        "print('EL RESULTADO DE ESTA COMBINACION ES ',model.score(X_test, y_test))"
      ],
      "metadata": {
        "colab": {
          "base_uri": "https://localhost:8080/"
        },
        "id": "4fio0-bUa9Bi",
        "outputId": "d42b8a0c-8606-4d10-d8b1-eb226da23820"
      },
      "execution_count": null,
      "outputs": [
        {
          "output_type": "stream",
          "name": "stdout",
          "text": [
            "EL RESULTADO DE ESTA COMBINACION ES  0.0\n"
          ]
        }
      ]
    },
    {
      "cell_type": "code",
      "source": [],
      "metadata": {
        "id": "7GUcJecga8uR"
      },
      "execution_count": null,
      "outputs": []
    },
    {
      "cell_type": "markdown",
      "source": [],
      "metadata": {
        "id": "uTr5YVX7Xcmv"
      }
    },
    {
      "cell_type": "code",
      "source": [
        "'''Supongamos que tienes una variable categórica llamada \"Color\" con las siguientes categorías: \"Rojo\", \"Verde\", \"Azul\". La codificación One-Hot para esta variable transformaría un dataset como el siguiente (fig 1)\n",
        "\n",
        "En una tabla One-Hot, esto se representaría como (fig 2)\n",
        "\n",
        "Implementación en Python\n",
        "Puedes realizar la codificación One-Hot utilizando la librería pandas en Python, que proporciona una función conveniente para esto. Aquí está un ejemplo de cómo hacerlo:\n",
        "\n",
        "import pandas as pd'''\n",
        "\n",
        "#Crear un DataFrame de ejemplo\n",
        "data = {\n",
        "'ID': [1, 2, 3, 4],\n",
        "'Color': ['Rojo', 'Verde', 'Azul', 'Rojo']\n",
        "}\n",
        "df = pd.DataFrame(data)\n",
        "\n",
        "#Aplicar la codificación One-Hot\n",
        "df_one_hot = pd.get_dummies(df, columns=['Color'])\n",
        "\n",
        "print(df_one_hot)\n"
      ],
      "metadata": {
        "colab": {
          "base_uri": "https://localhost:8080/"
        },
        "id": "w_Jf56KwTU3K",
        "outputId": "cc3dedcf-84d0-45ee-92dc-5db2319420ac"
      },
      "execution_count": null,
      "outputs": [
        {
          "output_type": "stream",
          "name": "stdout",
          "text": [
            "   ID  Color_Azul  Color_Rojo  Color_Verde\n",
            "0   1       False        True        False\n",
            "1   2       False       False         True\n",
            "2   3        True       False        False\n",
            "3   4       False        True        False\n"
          ]
        }
      ]
    },
    {
      "cell_type": "code",
      "source": [],
      "metadata": {
        "id": "jGT_rzvfBvf9"
      },
      "execution_count": null,
      "outputs": []
    },
    {
      "cell_type": "code",
      "source": [],
      "metadata": {
        "id": "w0hU2k9mBveJ"
      },
      "execution_count": null,
      "outputs": []
    },
    {
      "cell_type": "code",
      "source": [],
      "metadata": {
        "id": "Pl-jBR0nBvbd"
      },
      "execution_count": null,
      "outputs": []
    },
    {
      "cell_type": "code",
      "source": [],
      "metadata": {
        "id": "nfuezLJeBvXq"
      },
      "execution_count": null,
      "outputs": []
    },
    {
      "cell_type": "code",
      "source": [],
      "metadata": {
        "id": "wImS5Fs3BvVa"
      },
      "execution_count": null,
      "outputs": []
    },
    {
      "cell_type": "code",
      "source": [],
      "metadata": {
        "id": "s8xMORbUBvTS"
      },
      "execution_count": null,
      "outputs": []
    },
    {
      "cell_type": "code",
      "source": [],
      "metadata": {
        "id": "ZskwrqxdBvQx"
      },
      "execution_count": null,
      "outputs": []
    },
    {
      "cell_type": "code",
      "source": [],
      "metadata": {
        "id": "kmkjWesBBvOa"
      },
      "execution_count": null,
      "outputs": []
    },
    {
      "cell_type": "code",
      "source": [],
      "metadata": {
        "id": "vY03OjHVBvLu"
      },
      "execution_count": null,
      "outputs": []
    },
    {
      "cell_type": "code",
      "source": [],
      "metadata": {
        "id": "HnseEDuPBuxR"
      },
      "execution_count": null,
      "outputs": []
    },
    {
      "cell_type": "code",
      "source": [],
      "metadata": {
        "id": "rLto6oZxgPx3"
      },
      "execution_count": null,
      "outputs": []
    }
  ]
}